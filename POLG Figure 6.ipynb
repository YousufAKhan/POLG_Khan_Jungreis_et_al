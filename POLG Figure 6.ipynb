{
 "cells": [
  {
   "cell_type": "markdown",
   "metadata": {},
   "source": [
    "__Looking at second uORF__\n",
    "\n",
    "In homo sapiens, the uORF is located 138 nucleotides away from the main AUG, with the UTR length being 334 total nucleotides (POLG-201 from Ensembl). The length of this ORF is 72 nucleotides.  I think I will filter sequences here to 150 nucleotides of length and try to align the entire 5'-UTRs of sequences\n",
    "\n",
    "I decided to add Sarcophilus harisii to the ignore list because just because it has the CUG doesn't mean the uORFs are conserved --> it also messes up the alignment\n",
    "\n",
    "This is additionally interesting because 4 out of 5 of the sequences on the ignore list are marsupials and the 5th is Camelus_ferus. For some reason, I feel like all Camel genomes are super gappy when put into an alignment with other species. Perhaps the quality of deposition for Camels on NCBI was not good?\n",
    "\n",
    "The consensus Kozak Sequence for the upstream AUG is quite decent\n",
    "\n",
    "\n",
    "\n"
   ]
  },
  {
   "cell_type": "code",
   "execution_count": 45,
   "metadata": {},
   "outputs": [],
   "source": [
    "from Bio.Seq import Seq\n",
    "from Bio import Entrez\n",
    "from Bio import SeqIO\n",
    "from Bio.Alphabet import IUPAC\n",
    "import matplotlib\n",
    "import matplotlib.pyplot as plt\n",
    "% matplotlib inline\n",
    "import numpy as np\n",
    "from Bio.Align.Applications import MuscleCommandline\n",
    "import os\n",
    "from Bio import SeqIO\n",
    "import csv\n",
    "from itertools import islice\n",
    "from Bio.Emboss.Applications import TranalignCommandline"
   ]
  },
  {
   "cell_type": "code",
   "execution_count": 46,
   "metadata": {},
   "outputs": [],
   "source": [
    "cwd = os.getcwd()+os.sep\n",
    "BLAST_genbank = 'Representative_Species/tblastn_refseqrna_mammalia_queryhomosapiens_1-12-20.gb'\n",
    "BLAST_textoutput = 'Representative_Species/tblastn_refseqrna_mammalia_queryhomosapiens_1-12-20.txt'\n",
    "full_5UTR_fasta = cwd + 'full_5UTR.fasta'\n",
    "muscle_executable = cwd+\"muscle3.8.31_i86win32.exe\"\n",
    "uORF_kozak_file = cwd + 'uORF_kozak_sequence_aligned.fasta'\n",
    "aligned_fiveUTR_full = cwd+'aligned_full_5UTR.fasta'\n",
    "mammal_ignore_list_extended = ['Camelus_ferus', 'Vombatus_ursinus', 'Phascolarctos_cinereus' ,'Monodelphis_domestica','Sarcophilus_harrisii']"
   ]
  },
  {
   "cell_type": "code",
   "execution_count": 47,
   "metadata": {},
   "outputs": [],
   "source": [
    "def bestHitPerOrganism(hitTable):\n",
    "    singleHitDict = {}\n",
    "    for organism in hitTable:\n",
    "        bestScore = 0.0\n",
    "        final_accession = ''\n",
    "        transcript_variant = 0\n",
    "        for accession in hitTable[organism]:\n",
    "            current_score = float(hitTable[organism][accession]['bit score'])\n",
    "            if current_score > bestScore:\n",
    "                bestScore = current_score\n",
    "                final_accession = accession\n",
    "        singleHitDict[organism] = {'accession':final_accession, 'bit_score': bestScore,\n",
    "                                   'sequence':hitTable[organism][final_accession]['seq'],\n",
    "                                  'nam':hitTable[organism][final_accession]['nam'],\n",
    "                                  'start':hitTable[organism][final_accession]['start'],\n",
    "                                  'end':hitTable[organism][final_accession]['end']}\n",
    "    return singleHitDict     "
   ]
  },
  {
   "cell_type": "code",
   "execution_count": 48,
   "metadata": {},
   "outputs": [],
   "source": [
    "#This function requires a genbank file from a blast result, the text_table of the results of a blast result. An optional\n",
    "#parameter exists called optional_cutoff --> if an individual sorts sequences by something like query cover before downloading\n",
    "#his/her blast result, the user can choose to stop processing at a specific sequence so that only sequences above a certain\n",
    "#query cover are considered in downstream analysis. Alternatively, one could simply download sequences manually that are above\n",
    "#a certain query cover\n",
    "def processHitTable(genbank_file,text_table, optional_cutoff = ''):\n",
    "    Sequence_dict = {}\n",
    "    for file in SeqIO.parse(genbank_file, 'gb'):\n",
    "        for feature in file.features:\n",
    "                if feature.type == 'gene':\n",
    "                    if 'gene' in feature.qualifiers.keys():\n",
    "                        symbol = feature.qualifiers['gene']\n",
    "                    if 'locus_tag' in feature.qualifiers.keys():\n",
    "                        symbol = feature.qualifiers['locus_tag']\n",
    "                if feature.type == 'source':\n",
    "                    organism = feature.qualifiers['organism'][0].replace(\" \", \"_\")\n",
    "                    \n",
    "                    #automatically should use POLG-201 transcript\n",
    "                    if organism == 'Gallus_gallus':\n",
    "                        Sequence_dict['Gallus_gallus'] = {}\n",
    "                        Sequence_dict['Gallus_gallus']['POLG_201'] = {}\n",
    "                        Sequence_dict['Gallus_gallus']['POLG_201']['nam'] = 'Ensembl_transcript_POLG-201'\n",
    "                        Sequence_dict['Gallus_gallus']['POLG_201']['seq'] = (custom_POLG201_Gallus_gallus_sequence)\n",
    "                        Sequence_dict['Gallus_gallus']['POLG_201']['start'] = 404\n",
    "                        Sequence_dict['Gallus_gallus']['POLG_201']['end'] = 3983\n",
    "                        Sequence_dict['Gallus_gallus']['POLG_201']['bit score'] = 1000000\n",
    "                        \n",
    "                if feature.type == 'CDS':\n",
    "                    CDS = [int(a) for a in feature.location]\n",
    "                    start = CDS[0]\n",
    "                    end = CDS[-1]\n",
    "                    accession = file.name\n",
    "                    full_name = file.description\n",
    "                    if organism not in Sequence_dict.keys():\n",
    "                        Sequence_dict[organism] = dict()\n",
    "                    Sequence_dict[organism][accession] = dict()\n",
    "                    Sequence_dict[organism][accession]['nam'] = full_name\n",
    "                    Sequence_dict[organism][accession]['seq'] = file.seq\n",
    "                    Sequence_dict[organism][accession]['start'] = start\n",
    "                    Sequence_dict[organism][accession]['end'] = end + 1\n",
    "    \n",
    "    final_hit_dict = {}\n",
    "    with open(text_table) as f:\n",
    "        reader = csv.DictReader(f, delimiter = \"\\t\")\n",
    "        for initial_row in islice(reader, 4, 5):\n",
    "            header_list = str((initial_row['# tblastn'])).split('# Fields: ')[1].split(', ')\n",
    "        hit_number = 0\n",
    "        for row in islice(reader, 1, None):   \n",
    "            hit_dict = {}\n",
    "            hit_number +=1\n",
    "            query_id = []\n",
    "            query_id.append(str(row['# tblastn']))\n",
    "            result_list = row[None]\n",
    "            combined_results = query_id + result_list\n",
    "            i = 0\n",
    "            for item in header_list:\n",
    "                hit_dict[item] = combined_results[i]\n",
    "                i+=1  \n",
    "            if optional_cutoff != '':\n",
    "                if hit_dict['subject acc.ver'] == optional_cutoff:\n",
    "                    break\n",
    "            key = (hit_dict['subject acc.ver'].split('.'))[0]\n",
    "            \n",
    "            \n",
    "            organism = ''\n",
    "            accession = ''\n",
    "            for item in Sequence_dict:\n",
    "                for item2 in Sequence_dict[item]:\n",
    "                    if item2 == key:\n",
    "                        organism = item\n",
    "                        accession = item2\n",
    "                        Sequence_dict[organism][accession].update(hit_dict)\n",
    "            \n",
    "            \n",
    "            \n",
    "            \n",
    "            #final_hit_dict[key] = hit_dict     \n",
    "    return Sequence_dict"
   ]
  },
  {
   "cell_type": "code",
   "execution_count": 49,
   "metadata": {},
   "outputs": [],
   "source": [
    "def writeUTRfile(five_150_UTR_dict, filename, ignore_list):\n",
    "    file = open(filename, 'w')\n",
    "    for item in five_150_UTR_dict:\n",
    "        if item in ignore_list:\n",
    "            print(item)\n",
    "            continue    \n",
    "        file.write('>'+item+'\\n'+str(five_150_UTR_dict[item]['fiveUTR'])+'\\n')\n",
    "    file.close()"
   ]
  },
  {
   "cell_type": "code",
   "execution_count": 50,
   "metadata": {},
   "outputs": [],
   "source": [
    "def getuORFRNA(UTR_dict,ignore_list,singleTranscriptTable):\n",
    "    \n",
    "    uORF_RNA_dict = {}\n",
    "    for item in UTR_dict:\n",
    "        if item in ignore_list:\n",
    "            continue\n",
    "        fiveUTRcode = UTR_dict[item][uORF_AUG_reference:]\n",
    "        fiveUTRCDS = ''\n",
    "        for nt in fiveUTRcode:\n",
    "            if nt != '-':\n",
    "                fiveUTRCDS = fiveUTRCDS+ nt\n",
    "        fiveUTRCDS = fiveUTRCDS[10:]\n",
    "        uORF_RNA_dict[item] = Seq(fiveUTRCDS).transcribe()\n",
    "    return uORF_RNA_dict"
   ]
  },
  {
   "cell_type": "code",
   "execution_count": 51,
   "metadata": {},
   "outputs": [],
   "source": [
    "def extractfiveUTR(singleTranscriptTable, UTR_size = 100):\n",
    "    five_UTR_dict = {}\n",
    "    for item in singleTranscriptTable:\n",
    "        if singleTranscriptTable[item]['start'] > UTR_size:\n",
    "            accession = singleTranscriptTable[item]['accession']\n",
    "            sequence = singleTranscriptTable[item]['sequence']\n",
    "            fiveUTR = sequence[0:singleTranscriptTable[item]['start']]\n",
    "            five_UTR_dict[item] = {'accession':accession,'fiveUTR':fiveUTR}\n",
    "    return five_UTR_dict"
   ]
  },
  {
   "cell_type": "code",
   "execution_count": 52,
   "metadata": {},
   "outputs": [],
   "source": [
    "def writeKozakMotif(kozak_motif_dict, kozak_file):\n",
    "    file = open(kozak_file, 'w')\n",
    "    for item in kozak_motif_dict:\n",
    "        file.write('>'+item+'\\n'+kozak_motif_dict[item]+'\\n')\n",
    "    file.close()"
   ]
  },
  {
   "cell_type": "code",
   "execution_count": 53,
   "metadata": {},
   "outputs": [],
   "source": [
    "def readAlignment(in_file):\n",
    "    alignment_dict = {}\n",
    "    for seq_record in (SeqIO.parse(in_file, 'fasta')):\n",
    "        name = seq_record.id\n",
    "        seq = seq_record.seq\n",
    "        alignment_dict[name] = str(seq)\n",
    "    return (alignment_dict)"
   ]
  },
  {
   "cell_type": "code",
   "execution_count": 54,
   "metadata": {},
   "outputs": [],
   "source": [
    "def runMuscle(in_file, out_file, muscle_executable):\n",
    "    muscle_cline = MuscleCommandline(muscle_executable, input=in_file, out=out_file)\n",
    "    muscle_cline()"
   ]
  },
  {
   "cell_type": "code",
   "execution_count": 92,
   "metadata": {},
   "outputs": [],
   "source": [
    "def kozakMotif(fiveUTRalignment_dict,reference_location):\n",
    "    reference_location -=1\n",
    "    kozak_dict = {}\n",
    "    for item in fiveUTRalignment_dict:\n",
    "        if item == 'Monodelphis_domestica':\n",
    "            reference_location +=1\n",
    "        \n",
    "        \n",
    "        fiveUTR = fiveUTRalignment_dict[item]\n",
    "        CUG = fiveUTR[reference_location:reference_location+3]\n",
    "        motif = CUG\n",
    "        i = 0\n",
    "        nextnt = fiveUTR[reference_location+3+i:reference_location+3+i+1]\n",
    "        while nextnt == '-':\n",
    "            i +=1\n",
    "        motif += nextnt\n",
    "    \n",
    "        k = 0\n",
    "        j = 6\n",
    "    \n",
    "        while j > 0:\n",
    "            previousnt = fiveUTR[reference_location-1+k:reference_location+k]\n",
    "            if previousnt == '-':\n",
    "                k -=1\n",
    "            else:\n",
    "                motif = previousnt + motif\n",
    "                k -=1\n",
    "                j -=1\n",
    "        kozak_dict[item] = motif\n",
    "    return kozak_dict\n",
    "    "
   ]
  },
  {
   "cell_type": "code",
   "execution_count": 83,
   "metadata": {},
   "outputs": [],
   "source": [
    "hitTable = processHitTable(BLAST_genbank,BLAST_textoutput)\n",
    "singleTranscriptTable = bestHitPerOrganism(hitTable)"
   ]
  },
  {
   "cell_type": "code",
   "execution_count": 84,
   "metadata": {},
   "outputs": [],
   "source": [
    "five_150_UTR_dict = extractfiveUTR(singleTranscriptTable, 150)"
   ]
  },
  {
   "cell_type": "code",
   "execution_count": 85,
   "metadata": {},
   "outputs": [
    {
     "name": "stdout",
     "output_type": "stream",
     "text": [
      "Phascolarctos_cinereus\n",
      "Vombatus_ursinus\n",
      "Camelus_ferus\n"
     ]
    }
   ],
   "source": [
    "writeUTRfile(five_150_UTR_dict, full_5UTR_fasta, mammal_ignore_list_extended)"
   ]
  },
  {
   "cell_type": "code",
   "execution_count": 86,
   "metadata": {},
   "outputs": [],
   "source": [
    "runMuscle(full_5UTR_fasta, aligned_fiveUTR_full, muscle_executable)"
   ]
  },
  {
   "cell_type": "code",
   "execution_count": 87,
   "metadata": {},
   "outputs": [],
   "source": [
    "full5UTR_alignment_dict = readAlignment(aligned_fiveUTR_full)"
   ]
  },
  {
   "cell_type": "code",
   "execution_count": 88,
   "metadata": {},
   "outputs": [],
   "source": [
    "file = open('reordered_5UTR_Full_alignment.fasta','w')\n",
    "for item in full5UTR_alignment_dict:\n",
    "    if item == 'Homo_sapiens':\n",
    "        file.write('>'+item+'\\n'+full5UTR_alignment_dict[item]+'\\n')\n",
    "for item in full5UTR_alignment_dict:\n",
    "    if item != 'Homo_sapiens':\n",
    "        file.write('>'+item+'\\n'+full5UTR_alignment_dict[item]+'\\n')\n",
    "file.close()"
   ]
  },
  {
   "cell_type": "markdown",
   "metadata": {},
   "source": [
    "With this alignment, the uORF AUG begins at position 1372 in the alignment"
   ]
  },
  {
   "cell_type": "code",
   "execution_count": 100,
   "metadata": {},
   "outputs": [],
   "source": [
    "#custom_number that will depend on the alignment and requires manual insepction\n",
    "uORF_AUG_reference = 1372"
   ]
  },
  {
   "cell_type": "code",
   "execution_count": 101,
   "metadata": {},
   "outputs": [],
   "source": [
    "uORF_AUG_kozak_dict = kozakMotif(full5UTR_alignment_dict,uORF_AUG_reference)"
   ]
  },
  {
   "cell_type": "code",
   "execution_count": 102,
   "metadata": {},
   "outputs": [],
   "source": [
    "writeKozakMotif(uORF_AUG_kozak_dict, uORF_kozak_file)"
   ]
  }
 ],
 "metadata": {
  "kernelspec": {
   "display_name": "Python 3",
   "language": "python",
   "name": "python3"
  },
  "language_info": {
   "codemirror_mode": {
    "name": "ipython",
    "version": 3
   },
   "file_extension": ".py",
   "mimetype": "text/x-python",
   "name": "python",
   "nbconvert_exporter": "python",
   "pygments_lexer": "ipython3",
   "version": "3.6.5"
  }
 },
 "nbformat": 4,
 "nbformat_minor": 2
}
