{
 "cells": [
  {
   "cell_type": "markdown",
   "metadata": {},
   "source": [
    "5/9/19\n",
    "\n",
    "I am attempting my POLG analysis by following a more proper method for choosing my sequences. I am basing my approach off of Dinan et. al (https://www.ncbi.nlm.nih.gov/pmc/articles/PMC5644247/). For this study, I will obtain sequences by performing tblastn searches against the nr/nt NCBI database using selected reference species. \n",
    "\n",
    "--> I think it would be best to blast against the ref_seqRNA database rather than the nr/nt database\n",
    "\n",
    "https://www.ncbi.nlm.nih.gov/homologene/2016 \n",
    "\n",
    "Homologene claims to find orthologous sequences all the way back to S. pombe, but let's just start with vertebrate clades first? If it is completely conserved then I should look further back\n",
    "\n",
    "My selected reference species' sequences will be\n",
    "\n",
    "\n",
    "__Homo sapiens__: NM_002693.2, corresponding protein: NP_002684.1. TaxID Mammalia (taxid 40674).\n",
    "\n",
    "__Gallus gallus__: XM_015292047.2 is the NCBI transcript for POLG but the Ensembl transcript, POLG-201 has the upstream CUG in the correct frame. I suspect that while this won't change my BLAST results, I'll use it for all the downstream analyses after BLAST and force the Ensembl version into my dictionary. Corresponding protein: XP_015147533.1. TaxID Sauropsid\n",
    "\n",
    "__Xenopus tropicalis__: XM_002932235.4, corresponding protein: XP_002932281.2. TaxID Amphibia (taxid:8292)\n",
    "\n",
    "__Danio rerio__: XM_001921095.6, corresponding protein: XP_001921130.3. TaxID teleost fishes (taxid:32443)\n",
    "\n",
    "I am performing tblastn searches, using default parameters except I looked for the top 500 hits, with each of the corresponding protein sequences for each selected reference species using taxid Mammalia (taxid:40674), sauropsid, amphibian, teleost or vertebrate excluding mammalia, sauropsid, amphibian and teleost. Lastly the database is the RefSeqRNA database\n",
    "\n",
    "Sequences that had 'partial mRNA' in the name were removed\n",
    "\n",
    "__Mammalia investigation:__\n",
    "\n",
    "These sequences were removed from synplot analysis due to the amount of gaps in their alignment from Mammalian\n",
    "\n",
    "PREDICTED: Camelus bactrianus polymerase (DNA directed), gamma (POLG), partial mRNA\n",
    "NCBI Reference Sequence: XM_010955340.1  --> This sequence is a partial mRNA sequence (the genomic assembly lacks the 5' portion of the CDS) and has thus been excluded in synplot and CUG kozak analysis. \n",
    "\n",
    "These sequences were also removed due to their gappyness and synplot wouldn't run: Bison_bison_bison(XM_010841133.1), Oryctolagus_cuniculus (XM_017337563), Camelus_ferus (XM_006192570)\n",
    "\n",
    "__Sauropsid investigation__\n",
    "\n",
    "Sequences that had 'partial mRNA' in the name were removed during the BLAST search. The synplot doesn't look terribly significant but Gallus_gallus most definitely has a stop codon free area in the +1 frame\n",
    "\n",
    "__Amphibian investgiation__\n",
    "\n",
    "Too few sequences present to do synplot analysis. Xenopus_tropicalis doesn't have a stop codon free region in the +1 frame.\n",
    "\n",
    "There are only three organisms that are analyzed\n",
    "\n",
    "Xenopus_tropicalis:XM_002932235\n",
    "\n",
    "Xenopus_laevis:XM_018250789\n",
    "\n",
    "Nanorana_parkeri: XM_018571894\n",
    "\n",
    "__Teleost fish investgiation__\n",
    "\n",
    "Austrofundulus_limnaeus filtered to gappyness\n",
    "\n",
    "The synplot doesn't look significant and there isn't a stop codon free area in the +1 frame for Danio_rerio\n",
    "\n",
    "10/1/19\n",
    "\n",
    "I realized that I can directly get the counts of the ribosome profiling for POLG from Trips-Viz and I think it would be a useful analysis to have to compare the reads from the different ORF's: ORF-Z, ORF-Y (portion not overlapping with main CDS and portion overlapping), and CDS (same as ORF-Y, not overlapping and overlapping portions) and compare the different read counts. \n",
    "\n",
    "\n"
   ]
  },
  {
   "cell_type": "code",
   "execution_count": 2,
   "metadata": {},
   "outputs": [],
   "source": [
    "from Bio.Seq import Seq\n",
    "from Bio import Entrez\n",
    "from Bio import SeqIO\n",
    "from Bio.Alphabet import IUPAC\n",
    "import matplotlib\n",
    "import matplotlib.pyplot as plt\n",
    "% matplotlib inline\n",
    "import numpy as np\n",
    "from Bio.Align.Applications import MuscleCommandline\n",
    "import os\n",
    "from Bio import SeqIO\n",
    "import csv\n",
    "from itertools import islice\n",
    "from Bio.Emboss.Applications import TranalignCommandline"
   ]
  },
  {
   "cell_type": "markdown",
   "metadata": {},
   "source": [
    "__Before running the code below to generate tranaligned files, remember to change the __\n",
    "\n",
    "\n",
    "1)BLAST_genbank, \n",
    "\n",
    "2)BLAST_textoutput, \n",
    "\n",
    "3)and which filter list is being used in the writeCDS and writeProtein commands. \n",
    "\n",
    "\n",
    "This portion of the code deals with generated tranaligned sequences__"
   ]
  },
  {
   "cell_type": "code",
   "execution_count": 3,
   "metadata": {},
   "outputs": [],
   "source": [
    "cwd = os.getcwd()+os.sep\n",
    "\n",
    "BLAST_genbank = 'Representative_Species/tblastn_refseqrna_mammalia_queryhomosapiens_5-9-19_80cover.gb'\n",
    "BLAST_textoutput = 'Representative_Species/tblastn_refseqrna_mammalia_queryhomosapiens_5-9-19_80cover.txt'\n",
    "\n",
    "muscle_executable = cwd+\"muscle3.8.31_i86win32.exe\"\n",
    "output_all_CDS = cwd+\"80_CDS_POLG_new.fasta\"\n",
    "output_protein = cwd+'80_POLG_protein.fasta'\n",
    "output_all_CDS_ali = cwd+\"80_POLG_muscle_out_new.clw\"\n",
    "ordered_CDS = cwd+'80_Ordered_CDS_POLG.fasta'\n",
    "alignment_file = cwd+'80_POLG_muscle_alignment.fasta'\n",
    "\n",
    "mammal_filter_list = ['Camelus_bactrianus','Bison_bison_bison','Oryctolagus_cuniculus','Camelus_ferus']\n",
    "sauropsid_filter_list = []\n",
    "teleost_filter_list = ['Austrofundulus_limnaeus']\n",
    "amphibian_filter_list = []\n",
    "\n",
    "\n",
    "tranalign_exe = r\"C:\\mEMBOSS\\Tranalign.exe\"\n",
    "tranalignseq_out = cwd + 'POLG_tranalign_output_80.fasta'\n",
    "\n",
    "\n",
    "fiveUTR_100nt = cwd+'trimmed_5UTR.fasta'\n",
    "aligned_fiveUTR_100nt = cwd+'aligned_trimmed_5UTR.fasta'\n",
    "kozak_file = cwd+'kozak_sequence_aligned.fasta'\n",
    "\n",
    "CUGproteinfasta = cwd+'CUG_protein.fasta'\n",
    "CUGalignedprotein = cwd+'CUG_protein_aligned.clw'\n",
    "CUG_aligned_fasta = cwd+'CUG_protein_aligned.fasta'\n",
    "\n",
    "CUGRNAfasta = cwd + 'CUG_RNA.fasta'\n",
    "CUGalignedRNA = cwd + 'CUG_RNA_aligned.clw'\n",
    "CUG_RNA_aligned_fasta = cwd + 'CUG_RNA_aligned.fasta'\n",
    "\n",
    "full_5UTR_fasta = cwd + 'full_5UTR.fasta'\n",
    "aligned_fiveUTR_full = cwd+'aligned_full_5UTR.fasta'\n",
    "\n",
    "uORF_kozak_file = cwd + 'uORF_kozak_sequence_aligned.fasta'\n",
    "uORFproteinfasta = cwd + 'uORF_protein_sequence.fasta'\n",
    "uORFalignedprotein = cwd + 'uORF_aligned_protein.clw'\n",
    "uORF_aligned_fasta = cwd + 'uORF_aligned_protein.fasta'\n",
    "uORF_RNA_outfile = cwd + 'uORF_RNA_sequences.fasta'\n",
    "uORF_alignedRNA = cwd + 'uORF_RNA_aligned.clw'\n",
    "uORF_RNA_aligned_fasta = cwd + 'uORF_RNA_aligned.fasta'\n",
    "\n",
    "riboseq_table = cwd + 'POLG_counts_10_1_19_ENST00000268124.csv'"
   ]
  },
  {
   "cell_type": "code",
   "execution_count": 4,
   "metadata": {},
   "outputs": [],
   "source": [
    "#This is the POLG201 sequence for gallus gallus because the NCBI version has the CUG in the incorrect frame\n",
    "custom_POLG201_Gallus_gallus_sequence = Seq('GTCGCCCCGGAGCCCCGCGTTGCACCGCGATCCGACCCGGGCGGCGCGGTGTGGGGGCGGGGGGGCGCGTGGGGACAGCGCGGGGCTGCACGGCGCGGGGAAGGGGAGGTGCGGAGCTTTGGGGGCGCGTGCAGAGCTGTGGGGAGCGGCGGGGCGTGCCGCGTGCCTTGCAGGGGTGCCGCGTGCTTTGCAGGGGTGCCGCGTGCGTGCAGAGGTGTTGCACGCCTTGCAGGGGTGCTGCGTGCTTCGACGCAGTGGTGCGCCCCAGCTGCGCATCCCGGCGCGCCGCACACCTACGAGGTGTCGCTTTTAGCAGCGCCGGTTGAAGCTCCCGCTGCGGACCCCTCCCCTCACCGCCGCTCTCCCCCTGCAGGAGGACCCCCCCCTTATCCGGCAGCACCGCGATGCTCCGCGCGCTCCGCCGAGGCTCAGCGCCGCGCCGCGCCGCCTCCCGGCCGTGCTCCGGGCCCTCCGCGCACCGCCCGCAGCCACGCGGCGACGAGGCCGAGCCGTCGGAGCGGAGCGAGCGCCGCGTGAACCCGCTGCACATCCAGATGTTGTCCCGGAACCTCCACGAGCAGATCTTCCGCGGGGCGCCCGTGCGGCACTCGGAGGCGGCCGTGCGGCGCAGCGTCGAACACCTGCAGCGGCACGGCCTGTGGGGCCGGCACGGCCCGTCGCTGCCCGACGTGAGTTTGCGCCTGCCCCGCATGTACGGCGCCGACATCGACGAGCATTTCCGCCGCCTGGCGCAGAAGCAGAGCCTGCCCTACCTGGAGGCGGCCGAGGAGCTGCTGCGCTGCCGCCTGCCCCCCGCACCACAGAGCTGGGCCCGGCAGCAGGGCTGGACGCGCTACGGCCCCGACGGGCGGCCCGAGGCGGTGGAGTGCCCGCGGGAGCGCGCGTTGGTGCTGGACGTGGAGGTGTGCGTGGCCGCCGGGCAGTGCCCCACTATGGCCGTGGCGGTGTCGCCGCACGCGTGGTACTCGTGGTGCAGCCGGCGCCTGCTGGAGCAGCGCTACTCGTGGGGCCCCCGGCTGGCGCTGCACGACCTCGTGCCTCTGGAGGGGACCGGCAGGCAGCAGGAGGGCGGCGAGAGGGTGGTGGTGGGGCACAACGTGGCTTTCGACCGCGCCTTCATCAGGGAGCAGTACCTCGTGCAGGGCTCCCGGGTGCGCTTCCTGGACACCATGAGCATGCACATGGCCATCTCGGGGCTCACGGGCTTCCAGCGCAGCCTCTGGATGGCCGCCAAGCACGGCAAGAGGAAGGGGCTGCAGCAGGTCAGGCAGCACATGAAGAAGACACGCAGCAAAGCCGAGGGGCCGGCGGTCTCTTCATGGGACTGGGTGCACGTCAGCAGCATCAACAACCTGGCAGATGTGCATGCACTGTACGTGGGAGGGGAACCGCTGCAGAAGGAGGCACGAGAGCTGTTTGTTAAGGGGACCATGGCTGACGTCAGGAATAACTTCCAGGAGCTGATGTCGTACTGTGCCAGCGATGTCCGGGCCACCTATGAGGTGTTCCAGGAGCAGCTGCCGCTCTTCATGGAGAGGTGCCCCCACCCCGTGACGTTTGCTGGGATGTTGGAGATGGGGGTGTCCTACCTGCCGGTCAACAGCAACTGGAGGAGGTACCTGGACGATGCTCAGGGCACCTATGAGGAGCTGCAGAAGGAGATGAAAAAGTCCTTGATGAACCTGGCCAACGATGCCTGCCAGCTGCTGCACGAGGACAGGTACAAGGAGGACCCCTGGCTCTGGGATCTGGAGTGGGACACGCAAGAGTTTAAGCAGAAGAAACCCGCTAAGAGGAAGAAGGATCAGAAAATAAACAGTGAAGCTTCCGAGACGGGCTCTGCTCAGGAGTGGAGGGAAGACCCCGGTCCCCCCAGCGAGGAGGAGGAGCTGAGAGCCCCCGAGAGCAGCACCTGCCTGGAGCGCCTGAAGGAGACGATCACACTGCAGCCCAAGAGGCTGCAGCACCTCCCGGGCCACCCGGGCTGGTACCGCAAGCTCTGCCCGCGCCTGGAGGAGGAGGGCTGGGTGCCGGGGCCCAGCCTCATCAGCCTGCAGATGCGGGTGACCCCGAAACTGATGCGCCTGGCCTGGGATGGCTTCCCTCTGCACTACTCGGAGAAGCACGGCTGGGGCTACCTGGTGCCGGGGCGGCAGGACAACCTGCCTGCAGCCTCTGCGGAGCCAGAGGGGCCTGTCTGCCCACACAGGGCGATCGAGCGGCTGTATCGGCAGCACTGCCTGCAGAGGGGCCAGGAGCAGCCCCCAGAGGAGGCTGGCGTGGAGGATGAGCTGATGGTGCTGGAGGGCAGCAGCATGTGGCAGAAGGTGGAGGAGCTGAGCCAGCTGGAGCTGGACATGGAGCGGCCGGGCAGGGCAGAGCAGAGCCAGATGCAGGATGAGGACGGGCTGCCAGAGCTGGTGGAGGAGAGCAGCCAGCCCTCATTCCACCACGGCAATGGCCCCTACAACGACGTCAACATCCCTGGATGCTGGTTCTTCAAGCTGCCCCACAAGGACGGCAATGAGAACAACGTGGGGAGCCCCTTTGCCAAGGACTTCCTGCCCCGCATGGAGGATGGCACGCTGCGGGCCACCGTGGGCCGCACCCATGGGACCAGAGCCCTGGAGATCAACAAGATGGTGTCCTTCTGGAGGAACGCTCACAAGCGGGTCAGTTCCCAGGTGGTTGTGTGGCTGAAGAAGGGGGAGCTGCCCCGTGCGGTGACCAGGCACCCGGCCTACAGCGAGGAGGAGGACTACGGGGCCATCCTGCCGCAGGTGGTGACTGCGGGTACCATCACCCGTCGGGCCGTGGAGCCCACGTGGCTGACAGCCAGCAATGCCCGGGCTGACCGTGTGGGCAGCGAGCTGAAGGCCATGGTCCAGGTGCCGCCCGGCTACTCTCTGGTGGGTGCAGATGTGGACTCCCAGGAGCTGTGGATAGCGGCGGTCCTGGGCGAGGCTCACTTTGCTGGCATGCACGGGTGCACGGCCTTCGGCTGGATGACCCTGCAAGGGAAGAAGAGCGACGGGACCGACCTGCATAGCAAGACGGCCGCCACGGTGGGCATCAGCCGGGAGCACGCCAAGGTCTTCAACTACGGGCGCATCTACGGGGCTGGGCAGCCCTTTGCCGAGCGGCTGCTGATGCAGTTCAATCACCGGCTGACACAGCAGCAGGCACGTGAGAAGGCACAGCAGATGTATGCAGTCACAAAGGGCATCCGGAGGTTTCATCTCAGCGAGGAGGGCGAGTGGCTGGTGAAGGAACTGGAGCTGGCTGTGGACAAAGCAGAAGATGGTACGGTGTCGGCCCAGGATGTGCAGAAGATCCAGAGAGAAGCCATGAGAAAGTCCCGAAGGAAGAAGAAGTGGGACGTGGTGGCTCACCGAATGTGGGCTGGAGGCACCGAGTCCGAAATGTTCAACAAGCTGGAGAGCATCGCTCTGTCCGCCTCGCCACAGACCCCGGTGCTGGGCTGTCATATCAGCAGGGCTCTGGAGCCTGCAGTGGCCAAAGGGGAGTTTCTAACCAGCAGAGTGAACTGGGTGGTGCAGAGCTCAGCTGTTGACTACCTGCACCTCATGCTGGTCTCCATGAAGTGGCTCTTTGAGGAGTATGACATAAATGGTCGCTTCTGCATCAGCATCCACGACGAGGTGCGCTACCTGGTGCAGGAGCAGGACCGCTACCGGGCAGCACTGGCCCTGCAGATCACCAACCTGCTCACACGGTGCATGTTTGCCTACAAGCTGGGCCTCCAGGATCTGCCGCAGTCCGTGGCTTTCTTCAGCGCTGTGGACATTGACCGGTGCTTAAGGAAGGAGGTGACCATGAACTGTGCGACTCCATCAAATCCAACCGGCATGGAGAAGAAGTACGGCATTCCTCGAGGAGAAGCACTGGATATATATCAGATAATTGAAATAACCAAAGGCTCACTGGAGAAGAAGTGATAACGTGAGAGTGCCAGAAGGTGCAAGTTGTCCAGAGAGCACACGGGAACCTGGCTGTCCTTTCAGAAGCACATACATGGCAGGGACCAATCCTGGTTGCGCCGCTTCCTTCTCGTGGTAAGAAAAAGATGTTCCTGATGAAGATTTTCATAGCAGCACATCTGAATGGGAGAGCTTGCATATTTGAATGGCTGGCAGCCAGCTTTAAGACCTGAGACACCTGACAGAGTCACTGCTTGCACACCCGTGGGGATGAAGAAAGAAGTCTTGAGTATTTGCCAGGAGACAGAATCAAATCAATCATCTGTACGTGCAGTTCTCCAAGACCAAGGTGAGGCTGCCACAGCACAGGTGCTGTAGGAGAAGGAGGTGGCAGCAGTTGCAAGCACACATTCTATTTTTTTCGCCTTCTTTTCTTTTGGGGTTCCTGGTTTTCATCTGGCTGCTCTGCTGTGCCGGACTGGAGAGAAATAGAGAGTTAAGAGTACCAAGTGTGAACGTTTGTGT')"
   ]
  },
  {
   "cell_type": "code",
   "execution_count": null,
   "metadata": {},
   "outputs": [],
   "source": []
  },
  {
   "cell_type": "code",
   "execution_count": 6,
   "metadata": {},
   "outputs": [],
   "source": [
    "#This function requires a genbank file from a blast result, the text_table of the results of a blast result. An optional\n",
    "#parameter exists called optional_cutoff --> if an individual sorts sequences by something like query cover before downloading\n",
    "#his/her blast result, the user can choose to stop processing at a specific sequence so that only sequences above a certain\n",
    "#query cover are considered in downstream analysis. Alternatively, one could simply download sequences manually that are above\n",
    "#a certain query cover\n",
    "def processHitTable(genbank_file,text_table, optional_cutoff = ''):\n",
    "    Sequence_dict = {}\n",
    "    for file in SeqIO.parse(genbank_file, 'gb'):\n",
    "        for feature in file.features:\n",
    "                if feature.type == 'gene':\n",
    "                    if 'gene' in feature.qualifiers.keys():\n",
    "                        symbol = feature.qualifiers['gene']\n",
    "                    if 'locus_tag' in feature.qualifiers.keys():\n",
    "                        symbol = feature.qualifiers['locus_tag']\n",
    "                if feature.type == 'source':\n",
    "                    organism = feature.qualifiers['organism'][0].replace(\" \", \"_\")\n",
    "                    \n",
    "                    #automatically should use POLG-201 transcript\n",
    "                    if organism == 'Gallus_gallus':\n",
    "                        Sequence_dict['Gallus_gallus'] = {}\n",
    "                        Sequence_dict['Gallus_gallus']['POLG_201'] = {}\n",
    "                        Sequence_dict['Gallus_gallus']['POLG_201']['nam'] = 'Ensembl_transcript_POLG-201'\n",
    "                        Sequence_dict['Gallus_gallus']['POLG_201']['seq'] = (custom_POLG201_Gallus_gallus_sequence)\n",
    "                        Sequence_dict['Gallus_gallus']['POLG_201']['start'] = 404\n",
    "                        Sequence_dict['Gallus_gallus']['POLG_201']['end'] = 3983\n",
    "                        Sequence_dict['Gallus_gallus']['POLG_201']['bit score'] = 1000000\n",
    "                        \n",
    "                if feature.type == 'CDS':\n",
    "                    CDS = [int(a) for a in feature.location]\n",
    "                    start = CDS[0]\n",
    "                    end = CDS[-1]\n",
    "                    accession = file.name\n",
    "                    full_name = file.description\n",
    "                    if organism not in Sequence_dict.keys():\n",
    "                        Sequence_dict[organism] = dict()\n",
    "                    Sequence_dict[organism][accession] = dict()\n",
    "                    Sequence_dict[organism][accession]['nam'] = full_name\n",
    "                    Sequence_dict[organism][accession]['seq'] = file.seq\n",
    "                    Sequence_dict[organism][accession]['start'] = start\n",
    "                    Sequence_dict[organism][accession]['end'] = end + 1\n",
    "    \n",
    "    final_hit_dict = {}\n",
    "    with open(text_table) as f:\n",
    "        reader = csv.DictReader(f, delimiter = \"\\t\")\n",
    "        for initial_row in islice(reader, 4, 5):\n",
    "            header_list = str((initial_row['# tblastn'])).split('# Fields: ')[1].split(', ')\n",
    "        hit_number = 0\n",
    "        for row in islice(reader, 1, None):   \n",
    "            hit_dict = {}\n",
    "            hit_number +=1\n",
    "            query_id = []\n",
    "            query_id.append(str(row['# tblastn']))\n",
    "            result_list = row[None]\n",
    "            combined_results = query_id + result_list\n",
    "            i = 0\n",
    "            for item in header_list:\n",
    "                hit_dict[item] = combined_results[i]\n",
    "                i+=1  \n",
    "            if optional_cutoff != '':\n",
    "                if hit_dict['subject acc.ver'] == optional_cutoff:\n",
    "                    break\n",
    "            key = (hit_dict['subject acc.ver'].split('.'))[0]\n",
    "            \n",
    "            \n",
    "            organism = ''\n",
    "            accession = ''\n",
    "            for item in Sequence_dict:\n",
    "                for item2 in Sequence_dict[item]:\n",
    "                    if item2 == key:\n",
    "                        organism = item\n",
    "                        accession = item2\n",
    "                        Sequence_dict[organism][accession].update(hit_dict)\n",
    "            \n",
    "            \n",
    "            \n",
    "            \n",
    "            #final_hit_dict[key] = hit_dict     \n",
    "    return Sequence_dict"
   ]
  },
  {
   "cell_type": "code",
   "execution_count": 7,
   "metadata": {},
   "outputs": [],
   "source": [
    "def bestHitPerOrganism(hitTable):\n",
    "    singleHitDict = {}\n",
    "    for organism in hitTable:\n",
    "        bestScore = 0.0\n",
    "        final_accession = ''\n",
    "        transcript_variant = 0\n",
    "        for accession in hitTable[organism]:\n",
    "            current_score = float(hitTable[organism][accession]['bit score'])\n",
    "            if current_score > bestScore:\n",
    "                bestScore = current_score\n",
    "                final_accession = accession\n",
    "        singleHitDict[organism] = {'accession':final_accession, 'bit_score': bestScore,\n",
    "                                   'sequence':hitTable[organism][final_accession]['seq'],\n",
    "                                  'nam':hitTable[organism][final_accession]['nam'],\n",
    "                                  'start':hitTable[organism][final_accession]['start'],\n",
    "                                  'end':hitTable[organism][final_accession]['end']}\n",
    "    return singleHitDict     "
   ]
  },
  {
   "cell_type": "code",
   "execution_count": 8,
   "metadata": {},
   "outputs": [],
   "source": [
    "def writeCDS(out_file, D, skip = [],nam='organism'):\n",
    "    text_file = open(out_file, 'w')\n",
    "    for item in D:\n",
    "        if item in skip:\n",
    "            continue \n",
    "        if nam == 'organism':\n",
    "            text_file.write(\">%s\\n%s\\n\" % (item,\n",
    "                                           (D[item]['sequence'][D[item]['start']:D[item]['end']])))\n",
    "        else:\n",
    "            text_file.write(\">%s\\n%s\\n\" % (D[item][nam],\n",
    "                                           D[item]['sequence'][D[item]['start']:D[item]['end']]))            \n",
    "    text_file.close()"
   ]
  },
  {
   "cell_type": "code",
   "execution_count": 9,
   "metadata": {},
   "outputs": [],
   "source": [
    "def writeProtein(out_file, D,skip = [], nam='organism'):\n",
    "    text_file = open(out_file, 'w')\n",
    "    for item in D:\n",
    "        if item in skip:\n",
    "            continue\n",
    "        if nam == 'organism':\n",
    "            text_file.write(\">%s\\n%s\\n\" % (item,\n",
    "                                           ((D[item]['sequence'][D[item]['start']:D[item]['end']])).translate(to_stop=True)))\n",
    "        else:\n",
    "            text_file.write(\">%s\\n%s\\n\" % (D[item][nam],\n",
    "                                           D[item]['sequence'][D[item]['start']:D[item]['end']]))            \n",
    "    text_file.close()"
   ]
  },
  {
   "cell_type": "code",
   "execution_count": 10,
   "metadata": {},
   "outputs": [],
   "source": [
    "def runMuscle(in_file, out_file, muscle_executable):\n",
    "    muscle_cline = MuscleCommandline(muscle_executable, input=in_file, out=out_file)\n",
    "    muscle_cline()"
   ]
  },
  {
   "cell_type": "code",
   "execution_count": 11,
   "metadata": {},
   "outputs": [],
   "source": [
    "def readAlignment(in_file):\n",
    "    alignment_dict = {}\n",
    "    for seq_record in (SeqIO.parse(in_file, 'fasta')):\n",
    "        name = seq_record.id\n",
    "        seq = seq_record.seq\n",
    "        alignment_dict[name] = str(seq)\n",
    "    return (alignment_dict)"
   ]
  },
  {
   "cell_type": "code",
   "execution_count": 12,
   "metadata": {},
   "outputs": [],
   "source": [
    "def orderCDSfile(final, alignment_dict, filename):\n",
    "    CDS_order_file = open(filename,'w')\n",
    "    for item in alignment_dict:\n",
    "        CDS_order_file.write('>'+item+'\\n'+str(final[item]['sequence'][final[item]['start']:final[item]['end']])+'\\n')\n",
    "    CDS_order_file.close()"
   ]
  },
  {
   "cell_type": "code",
   "execution_count": 13,
   "metadata": {},
   "outputs": [],
   "source": [
    "def generateAlignmentFile(alignment_in, alignment_dict):\n",
    "    alignment_file = open(alignment_in, 'w')\n",
    "    for item in alignment_dict:\n",
    "        alignment_file.write('>'+item+'\\n'+(alignment_dict[item])+'\\n')\n",
    "    alignment_file.close()"
   ]
  },
  {
   "cell_type": "code",
   "execution_count": 14,
   "metadata": {},
   "outputs": [],
   "source": [
    "def runTranalign(Tranalign_exe, orderedCDS_file_in, POLG_muscle_alignment_in, tranalignseq_out):\n",
    "    needle_cline = TranalignCommandline(Tranalign_exe,asequence=orderedCDS_file_in,\n",
    "                                 bsequence=POLG_muscle_alignment_in,\n",
    "                                 stdout=True,outseq=tranalignseq_out)\n",
    "    needle_cline()"
   ]
  },
  {
   "cell_type": "code",
   "execution_count": 15,
   "metadata": {},
   "outputs": [
    {
     "ename": "FileNotFoundError",
     "evalue": "[Errno 2] No such file or directory: 'Representative_Species/tblastn_refseqrna_mammalia_queryhomosapiens_1-12-20.gb'",
     "output_type": "error",
     "traceback": [
      "\u001b[1;31m---------------------------------------------------------------------------\u001b[0m",
      "\u001b[1;31mFileNotFoundError\u001b[0m                         Traceback (most recent call last)",
      "\u001b[1;32m<ipython-input-15-2cbaf6b499ab>\u001b[0m in \u001b[0;36m<module>\u001b[1;34m()\u001b[0m\n\u001b[1;32m----> 1\u001b[1;33m \u001b[0mhitTable\u001b[0m \u001b[1;33m=\u001b[0m \u001b[0mprocessHitTable\u001b[0m\u001b[1;33m(\u001b[0m\u001b[0mBLAST_genbank\u001b[0m\u001b[1;33m,\u001b[0m\u001b[0mBLAST_textoutput\u001b[0m\u001b[1;33m)\u001b[0m\u001b[1;33m\u001b[0m\u001b[0m\n\u001b[0m\u001b[0;32m      2\u001b[0m \u001b[0msingleTranscriptTable\u001b[0m \u001b[1;33m=\u001b[0m \u001b[0mbestHitPerOrganism\u001b[0m\u001b[1;33m(\u001b[0m\u001b[0mhitTable\u001b[0m\u001b[1;33m)\u001b[0m\u001b[1;33m\u001b[0m\u001b[0m\n",
      "\u001b[1;32m<ipython-input-6-274938d1a3a2>\u001b[0m in \u001b[0;36mprocessHitTable\u001b[1;34m(genbank_file, text_table, optional_cutoff)\u001b[0m\n\u001b[0;32m      6\u001b[0m \u001b[1;32mdef\u001b[0m \u001b[0mprocessHitTable\u001b[0m\u001b[1;33m(\u001b[0m\u001b[0mgenbank_file\u001b[0m\u001b[1;33m,\u001b[0m\u001b[0mtext_table\u001b[0m\u001b[1;33m,\u001b[0m \u001b[0moptional_cutoff\u001b[0m \u001b[1;33m=\u001b[0m \u001b[1;34m''\u001b[0m\u001b[1;33m)\u001b[0m\u001b[1;33m:\u001b[0m\u001b[1;33m\u001b[0m\u001b[0m\n\u001b[0;32m      7\u001b[0m     \u001b[0mSequence_dict\u001b[0m \u001b[1;33m=\u001b[0m \u001b[1;33m{\u001b[0m\u001b[1;33m}\u001b[0m\u001b[1;33m\u001b[0m\u001b[0m\n\u001b[1;32m----> 8\u001b[1;33m     \u001b[1;32mfor\u001b[0m \u001b[0mfile\u001b[0m \u001b[1;32min\u001b[0m \u001b[0mSeqIO\u001b[0m\u001b[1;33m.\u001b[0m\u001b[0mparse\u001b[0m\u001b[1;33m(\u001b[0m\u001b[0mgenbank_file\u001b[0m\u001b[1;33m,\u001b[0m \u001b[1;34m'gb'\u001b[0m\u001b[1;33m)\u001b[0m\u001b[1;33m:\u001b[0m\u001b[1;33m\u001b[0m\u001b[0m\n\u001b[0m\u001b[0;32m      9\u001b[0m         \u001b[1;32mfor\u001b[0m \u001b[0mfeature\u001b[0m \u001b[1;32min\u001b[0m \u001b[0mfile\u001b[0m\u001b[1;33m.\u001b[0m\u001b[0mfeatures\u001b[0m\u001b[1;33m:\u001b[0m\u001b[1;33m\u001b[0m\u001b[0m\n\u001b[0;32m     10\u001b[0m                 \u001b[1;32mif\u001b[0m \u001b[0mfeature\u001b[0m\u001b[1;33m.\u001b[0m\u001b[0mtype\u001b[0m \u001b[1;33m==\u001b[0m \u001b[1;34m'gene'\u001b[0m\u001b[1;33m:\u001b[0m\u001b[1;33m\u001b[0m\u001b[0m\n",
      "\u001b[1;32m~\\Anaconda3\\lib\\site-packages\\Bio\\SeqIO\\__init__.py\u001b[0m in \u001b[0;36mparse\u001b[1;34m(handle, format, alphabet)\u001b[0m\n\u001b[0;32m    616\u001b[0m         \u001b[1;32mraise\u001b[0m \u001b[0mValueError\u001b[0m\u001b[1;33m(\u001b[0m\u001b[1;34m\"Invalid alphabet, %r\"\u001b[0m \u001b[1;33m%\u001b[0m \u001b[0malphabet\u001b[0m\u001b[1;33m)\u001b[0m\u001b[1;33m\u001b[0m\u001b[0m\n\u001b[0;32m    617\u001b[0m \u001b[1;33m\u001b[0m\u001b[0m\n\u001b[1;32m--> 618\u001b[1;33m     \u001b[1;32mwith\u001b[0m \u001b[0mas_handle\u001b[0m\u001b[1;33m(\u001b[0m\u001b[0mhandle\u001b[0m\u001b[1;33m,\u001b[0m \u001b[0mmode\u001b[0m\u001b[1;33m)\u001b[0m \u001b[1;32mas\u001b[0m \u001b[0mfp\u001b[0m\u001b[1;33m:\u001b[0m\u001b[1;33m\u001b[0m\u001b[0m\n\u001b[0m\u001b[0;32m    619\u001b[0m         \u001b[1;31m# Map the file format to a sequence iterator:\u001b[0m\u001b[1;33m\u001b[0m\u001b[1;33m\u001b[0m\u001b[0m\n\u001b[0;32m    620\u001b[0m         \u001b[1;32mif\u001b[0m \u001b[0mformat\u001b[0m \u001b[1;32min\u001b[0m \u001b[0m_FormatToIterator\u001b[0m\u001b[1;33m:\u001b[0m\u001b[1;33m\u001b[0m\u001b[0m\n",
      "\u001b[1;32m~\\Anaconda3\\lib\\contextlib.py\u001b[0m in \u001b[0;36m__enter__\u001b[1;34m(self)\u001b[0m\n\u001b[0;32m     79\u001b[0m     \u001b[1;32mdef\u001b[0m \u001b[0m__enter__\u001b[0m\u001b[1;33m(\u001b[0m\u001b[0mself\u001b[0m\u001b[1;33m)\u001b[0m\u001b[1;33m:\u001b[0m\u001b[1;33m\u001b[0m\u001b[0m\n\u001b[0;32m     80\u001b[0m         \u001b[1;32mtry\u001b[0m\u001b[1;33m:\u001b[0m\u001b[1;33m\u001b[0m\u001b[0m\n\u001b[1;32m---> 81\u001b[1;33m             \u001b[1;32mreturn\u001b[0m \u001b[0mnext\u001b[0m\u001b[1;33m(\u001b[0m\u001b[0mself\u001b[0m\u001b[1;33m.\u001b[0m\u001b[0mgen\u001b[0m\u001b[1;33m)\u001b[0m\u001b[1;33m\u001b[0m\u001b[0m\n\u001b[0m\u001b[0;32m     82\u001b[0m         \u001b[1;32mexcept\u001b[0m \u001b[0mStopIteration\u001b[0m\u001b[1;33m:\u001b[0m\u001b[1;33m\u001b[0m\u001b[0m\n\u001b[0;32m     83\u001b[0m             \u001b[1;32mraise\u001b[0m \u001b[0mRuntimeError\u001b[0m\u001b[1;33m(\u001b[0m\u001b[1;34m\"generator didn't yield\"\u001b[0m\u001b[1;33m)\u001b[0m \u001b[1;32mfrom\u001b[0m \u001b[1;32mNone\u001b[0m\u001b[1;33m\u001b[0m\u001b[0m\n",
      "\u001b[1;32m~\\Anaconda3\\lib\\site-packages\\Bio\\File.py\u001b[0m in \u001b[0;36mas_handle\u001b[1;34m(handleish, mode, **kwargs)\u001b[0m\n\u001b[0;32m     99\u001b[0m                 \u001b[1;32myield\u001b[0m \u001b[0mfp\u001b[0m\u001b[1;33m\u001b[0m\u001b[0m\n\u001b[0;32m    100\u001b[0m         \u001b[1;32melse\u001b[0m\u001b[1;33m:\u001b[0m\u001b[1;33m\u001b[0m\u001b[0m\n\u001b[1;32m--> 101\u001b[1;33m             \u001b[1;32mwith\u001b[0m \u001b[0mopen\u001b[0m\u001b[1;33m(\u001b[0m\u001b[0mhandleish\u001b[0m\u001b[1;33m,\u001b[0m \u001b[0mmode\u001b[0m\u001b[1;33m,\u001b[0m \u001b[1;33m**\u001b[0m\u001b[0mkwargs\u001b[0m\u001b[1;33m)\u001b[0m \u001b[1;32mas\u001b[0m \u001b[0mfp\u001b[0m\u001b[1;33m:\u001b[0m\u001b[1;33m\u001b[0m\u001b[0m\n\u001b[0m\u001b[0;32m    102\u001b[0m                 \u001b[1;32myield\u001b[0m \u001b[0mfp\u001b[0m\u001b[1;33m\u001b[0m\u001b[0m\n\u001b[0;32m    103\u001b[0m     \u001b[1;32melse\u001b[0m\u001b[1;33m:\u001b[0m\u001b[1;33m\u001b[0m\u001b[0m\n",
      "\u001b[1;31mFileNotFoundError\u001b[0m: [Errno 2] No such file or directory: 'Representative_Species/tblastn_refseqrna_mammalia_queryhomosapiens_1-12-20.gb'"
     ]
    }
   ],
   "source": [
    "hitTable = processHitTable(BLAST_genbank,BLAST_textoutput)\n",
    "singleTranscriptTable = bestHitPerOrganism(hitTable)"
   ]
  },
  {
   "cell_type": "code",
   "execution_count": null,
   "metadata": {
    "scrolled": true
   },
   "outputs": [],
   "source": []
  },
  {
   "cell_type": "code",
   "execution_count": 36,
   "metadata": {},
   "outputs": [],
   "source": [
    "writeCDS(output_all_CDS, singleTranscriptTable, mammal_filter_list)"
   ]
  },
  {
   "cell_type": "code",
   "execution_count": 37,
   "metadata": {},
   "outputs": [],
   "source": [
    "writeProtein(output_protein, singleTranscriptTable, mammal_filter_list)"
   ]
  },
  {
   "cell_type": "code",
   "execution_count": 38,
   "metadata": {},
   "outputs": [],
   "source": [
    "runMuscle(output_protein, output_all_CDS_ali, muscle_executable)"
   ]
  },
  {
   "cell_type": "code",
   "execution_count": 39,
   "metadata": {},
   "outputs": [],
   "source": [
    "alignment_dict = readAlignment(output_all_CDS_ali)"
   ]
  },
  {
   "cell_type": "code",
   "execution_count": 40,
   "metadata": {},
   "outputs": [],
   "source": [
    "orderCDSfile(singleTranscriptTable, alignment_dict,ordered_CDS)"
   ]
  },
  {
   "cell_type": "code",
   "execution_count": 41,
   "metadata": {},
   "outputs": [],
   "source": [
    "generateAlignmentFile(alignment_file, alignment_dict)"
   ]
  },
  {
   "cell_type": "code",
   "execution_count": 42,
   "metadata": {},
   "outputs": [],
   "source": [
    "runTranalign(tranalign_exe, ordered_CDS, alignment_file, tranalignseq_out)"
   ]
  },
  {
   "cell_type": "code",
   "execution_count": 43,
   "metadata": {},
   "outputs": [],
   "source": [
    "tranaligned_dict = {}\n",
    "for file in SeqIO.parse(tranalignseq_out, 'fasta'):\n",
    "    tranaligned_dict[file.name] = str(file.seq)"
   ]
  },
  {
   "cell_type": "code",
   "execution_count": null,
   "metadata": {},
   "outputs": [],
   "source": []
  },
  {
   "cell_type": "code",
   "execution_count": 44,
   "metadata": {},
   "outputs": [],
   "source": [
    "#Run synplot on the online database: http://guinevere.otago.ac.nz/cgi-bin/aef/synplot.pl"
   ]
  },
  {
   "cell_type": "code",
   "execution_count": 45,
   "metadata": {
    "scrolled": true
   },
   "outputs": [],
   "source": [
    "#CleanupFiles\n",
    "os.remove(output_all_CDS)\n",
    "os.remove(output_protein)\n",
    "os.remove(alignment_file)\n",
    "os.remove(ordered_CDS)\n",
    "os.remove(output_all_CDS_ali)\n",
    "os.remove(tranalignseq_out)"
   ]
  },
  {
   "cell_type": "code",
   "execution_count": null,
   "metadata": {},
   "outputs": [],
   "source": []
  },
  {
   "cell_type": "code",
   "execution_count": null,
   "metadata": {},
   "outputs": [],
   "source": []
  },
  {
   "cell_type": "code",
   "execution_count": null,
   "metadata": {},
   "outputs": [],
   "source": []
  },
  {
   "cell_type": "code",
   "execution_count": null,
   "metadata": {},
   "outputs": [],
   "source": []
  },
  {
   "cell_type": "code",
   "execution_count": null,
   "metadata": {},
   "outputs": [],
   "source": []
  },
  {
   "cell_type": "code",
   "execution_count": null,
   "metadata": {},
   "outputs": [],
   "source": []
  },
  {
   "cell_type": "code",
   "execution_count": null,
   "metadata": {},
   "outputs": [],
   "source": []
  },
  {
   "cell_type": "markdown",
   "metadata": {},
   "source": [
    "__This portion of the code deals with aligning the 5'-UTR portion of sequences__\n",
    "\n",
    "Sequences that are aligned must have a 5_UTR of atleast 100 nucleotides so that an alignment can be produced. Filtering steps that were included in the previous section to make Synplot2 run are not included here or in downstream analyses\n",
    "\n",
    "__Mammalia Results__\n",
    "\n",
    "\n",
    "The sequences that lack a conserved CUG codon are Camelus_ferus, Vombatus_ursinus, Phascolarctos_cinereus , Monodelphis_domestica. \n",
    "\n",
    "Sarcophilus_harrisii has the CUG codon but the surrounding sequence is a bit odd\n",
    "\n",
    "Unsurprisingly, the length of the alternative frame in the CDS for sequences are the following \n",
    "\n",
    "Camelus_ferus: 197 nucleotides\n",
    "Sarcophilus_harrisii: 86 nucleotides\n",
    "Vombatus_ursinus: 86 nucleotides\n",
    "Phascolarctos_cinereus: 86 nucleotides\n",
    "Monodelphis_domestica: 86 nucleotides\n",
    "\n",
    "This supports the idea that the mammals that lack the CUG initiation codon, also do not have the long ORF either\n",
    "\n",
    "Monodelphis_domestica has a gap where the CUG should be located in mammals so I've artificially just chosen the next nucleotide as where the reference location begins. This can be seen by referring to the KozakMotif function\n",
    "\n",
    "\n",
    "__Sauropsid Results__\n",
    "\n",
    "Most sequences do not appear to have a long ORF in the incorrect reading frame. Unlike mammalia, I may have to manually pick and choose sequences that work best for me to align since an alignment with ALL the kozak sequences isn't yielding anything informative. Perhaps a manual inspection is in order.\n",
    "\n",
    "The peptide generated by a CUG uORF by Gallus gallus has terrible protein alignment to the Homo sapiens protein\n",
    "\n",
    "--> Sequences must have a 3'-UTR of 100 nucleotides or greater\n",
    "--> The extension in the correct ORF must be greater than 300 nucleotides\n",
    "\n",
    "_Gallus_gallus_\n",
    "\n",
    "-->CUG is properly offset from start codon\n",
    "-->Length of ORF from CUG to TF stop codon is 1110 nucleotides\n",
    "\n",
    "Empidonax_traillii\n",
    "\n",
    "-->CUG is not properly offset from start codon to access frame\n",
    "-->Length of start codon to supposed TF stop codon is 398 nucleotides\n",
    "\n",
    "Neopelma_chrysocephalum\n",
    "-->CUG is not properly offset from start codon to access frame\n",
    "-->Length of start codon to supposed TF stop codon is 398 nucleotides\n",
    "\n",
    "_Parus_major_\n",
    "-->CUG is properly offset from start codon\n",
    "-->Length of ORF from CUG to TF stop codon is 777 nucleotides\n",
    "\n",
    "_Zonotrichia_albicollis_\n",
    "-->CUG is properly offset from the start codon\n",
    "-->Length of ORF from CUG to TF stop codon is 813 nucleotides\n",
    "\n",
    "Corvus_brachyrhynchos\n",
    "-->CUG is not properly offset from the start codon\n",
    "-->Length of ORF from start codon to supposed TF stop codon is 536 nucleotides\n",
    "\n",
    "_Corapipo_altera_\n",
    "-->CUG is properly offset from the start codon\n",
    "-->Length of ORF from CUG to TF stop codon is 471 nucleotides\n",
    "\n",
    "_Lepidothrix_coronata_\n",
    "-->CUG is properly offset from the start codon\n",
    "-->Length of ORF from CUG to TF stop codon is 471 nucleotides\n",
    "\n",
    "_Pipra_filicauda_\n",
    "-->CUG is properly offset from the start codon\n",
    "-->Length of ORF from CUG to TF stop codon is 471 nucleotides\n",
    "\n",
    "Ficedula_albicollis\n",
    "-->CUG is not properly offset from the start codon\n",
    "-->Length of ORF from start to supposed stop codon is 353 nucleotides\n",
    "\n",
    "_Anser_cygnoides_domesticus_\n",
    "-->There are two CUGs that are properly offset from the start codon. One is 100 nucleotides away and the other is 178 nucleotides away. I assume that the one that is 100 nucleotides is likely to be the one used (or formerly used). \n",
    "-->Length of ORF from CUG to TF stop codon is 708 nucleotides\n",
    "\n",
    "\n",
    "List of sauropsids that require further analysis: sauropsid_list = ['Gallus_gallus', 'Parus_major', 'Zonotrichia_albicollis', 'Corapipo_altera', 'Lepidothrix_coronata', 'Pipra_filicauda', 'Anser_cygnoides_domesticus']\n",
    "\n",
    "These sauropsids have no alignment with their prospective CUG initiation codon in a MUSCLE alignment of their 5UTRs\n",
    "\n",
    "__Amphibia__\n",
    "\n",
    "There are only three organisms that are analyzed. None have an overlapping extension greater than 300 nucleotides\n",
    "\n",
    "Xenopus_tropicalis:XM_002932235\n",
    "Length into TF ORF 71 nucleotides\n",
    "\n",
    "Xenopus_laevis:XM_018250789\n",
    "Length into TF ORF 62 nucleotides\n",
    "\n",
    "Nanorana_parkeri: XM_018571894\n",
    "Length into TF ORF 38 nucleotides\n",
    "\n",
    "\n",
    "__Teleost fish__\n",
    "\n",
    "Only 3 sequences have an overlapping extension greater than 300 nucleotides\n",
    "\n",
    "Austrofundulus_limnaeus (XM_014005514): 323 nucleotides\n",
    "Contains two CUGs in the proper frame 70 and 82 nucleotides away but there is an intervening stop codon. \n",
    "\n",
    "Sinocyclocheilus_rhinocerous (XM_016528575): 314 nucleotides\n",
    "Contains one CUG in the proper frame but there is an intervening stop codon\n",
    "\n",
    "Clupea_harengus (XM_012832592): 320 nucleotides\n",
    "Contains one CUG in the proper frame without an intervening stop codon\n",
    "-->The surrounding sequence for this CUG is ACAAAA __CTG__ A\n",
    ">Potential_protein\n",
    "MKRNVAVMVTPLSTTTVPCTGAQEVAKFLGRASPGTGAQLSSEKSKPTQHPDDVCKPAQADIPRIGASIHTGRCGAEYQAPAEASALGQRSCASSRRGAEVARNVWQRH"
   ]
  },
  {
   "cell_type": "code",
   "execution_count": 46,
   "metadata": {},
   "outputs": [],
   "source": [
    "def extractfiveUTR(singleTranscriptTable, UTR_size = 100):\n",
    "    five_UTR_dict = {}\n",
    "    for item in singleTranscriptTable:\n",
    "        if singleTranscriptTable[item]['start'] > UTR_size:\n",
    "            accession = singleTranscriptTable[item]['accession']\n",
    "            sequence = singleTranscriptTable[item]['sequence']\n",
    "            fiveUTR = sequence[0:singleTranscriptTable[item]['start']]\n",
    "            five_UTR_dict[item] = {'accession':accession,'fiveUTR':fiveUTR}\n",
    "    return five_UTR_dict"
   ]
  },
  {
   "cell_type": "code",
   "execution_count": 47,
   "metadata": {},
   "outputs": [],
   "source": [
    "def fiveUTRTrim(five_UTR_dict, trim_size = 100):\n",
    "    UTR_trim_dict = {}\n",
    "    for item in five_UTR_dict:\n",
    "        len_UTR = len(five_UTR_dict[item]['fiveUTR'])\n",
    "        start = len_UTR-trim_size\n",
    "        trimmed_UTR = five_UTR_dict[item]['fiveUTR'][start:len_UTR]\n",
    "        UTR_trim_dict[item] = {'accession':five_UTR_dict[item]['accession'],'sequence':trimmed_UTR}\n",
    "    return UTR_trim_dict\n",
    "    "
   ]
  },
  {
   "cell_type": "code",
   "execution_count": 48,
   "metadata": {},
   "outputs": [],
   "source": [
    "def trimmedfiveUTRwrite(UTR_trim_dict):\n",
    "    UTR_file = open(fiveUTR_100nt,'w')\n",
    "    for item in UTR_trim_dict:\n",
    "        UTR_file.write('>'+item+'\\n'+str(UTR_trim_dict[item]['sequence'])+'\\n')\n",
    "    UTR_file.close()\n",
    "    \n",
    "    "
   ]
  },
  {
   "cell_type": "code",
   "execution_count": 49,
   "metadata": {},
   "outputs": [],
   "source": [
    "def determineAltFrameLength(singleTranscriptTable):\n",
    "    plus1_dict = {}\n",
    "    for item in singleTranscriptTable:\n",
    "        sequence = singleTranscriptTable[item]['sequence']\n",
    "        start = singleTranscriptTable[item]['start']\n",
    "        stop = singleTranscriptTable[item]['end']\n",
    "        accession = singleTranscriptTable[item]['accession']\n",
    "        CDS = sequence[start:stop]\n",
    "        CDS_truncateStart = CDS[3:]\n",
    "        plusOne = 'ATGG' + CDS_truncateStart\n",
    "        plusOneLength = (3*len(plusOne.translate(to_stop=True)))+2\n",
    "        plus1_dict[item] = {'accession':accession,'+1_length_intoCDS':plusOneLength}\n",
    "    return plus1_dict"
   ]
  },
  {
   "cell_type": "code",
   "execution_count": 50,
   "metadata": {},
   "outputs": [],
   "source": [
    "def kozakMotif(fiveUTRalignment_dict,reference_location):\n",
    "    reference_location -=1\n",
    "    kozak_dict = {}\n",
    "    for item in fiveUTRalignment_dict:\n",
    "        if item == 'Monodelphis_domestica':\n",
    "            reference_location +=1\n",
    "        \n",
    "        \n",
    "        fiveUTR = fiveUTRalignment_dict[item]\n",
    "        CUG = fiveUTR[reference_location:reference_location+3]\n",
    "        motif = CUG\n",
    "        i = 0\n",
    "        nextnt = fiveUTR[reference_location+3+i:reference_location+3+i+1]\n",
    "        while nextnt == '-':\n",
    "            i +=1\n",
    "        motif += nextnt\n",
    "    \n",
    "        k = 0\n",
    "        j = 6\n",
    "    \n",
    "        while j > 0:\n",
    "            previousnt = fiveUTR[reference_location-1+k:reference_location+k]\n",
    "            if previousnt == '-':\n",
    "                k -=1\n",
    "            else:\n",
    "                motif = previousnt + motif\n",
    "                k -=1\n",
    "                j -=1\n",
    "        kozak_dict[item] = motif\n",
    "    return kozak_dict\n",
    "    "
   ]
  },
  {
   "cell_type": "code",
   "execution_count": 51,
   "metadata": {},
   "outputs": [],
   "source": [
    "def writeKozakMotif(kozak_motif_dict, kozak_file):\n",
    "    file = open(kozak_file, 'w')\n",
    "    for item in kozak_motif_dict:\n",
    "        file.write('>'+item+'\\n'+kozak_motif_dict[item]+'\\n')\n",
    "    file.close()"
   ]
  },
  {
   "cell_type": "code",
   "execution_count": null,
   "metadata": {},
   "outputs": [],
   "source": []
  },
  {
   "cell_type": "code",
   "execution_count": 52,
   "metadata": {},
   "outputs": [],
   "source": [
    "five_UTR_dict = extractfiveUTR(singleTranscriptTable)"
   ]
  },
  {
   "cell_type": "code",
   "execution_count": 53,
   "metadata": {},
   "outputs": [],
   "source": [
    "UTR_trim_dict = fiveUTRTrim(five_UTR_dict)"
   ]
  },
  {
   "cell_type": "code",
   "execution_count": 54,
   "metadata": {},
   "outputs": [],
   "source": [
    "trimmedfiveUTRwrite(UTR_trim_dict)"
   ]
  },
  {
   "cell_type": "code",
   "execution_count": 55,
   "metadata": {},
   "outputs": [],
   "source": [
    "runMuscle(fiveUTR_100nt, aligned_fiveUTR_100nt, muscle_executable)"
   ]
  },
  {
   "cell_type": "code",
   "execution_count": 56,
   "metadata": {},
   "outputs": [],
   "source": [
    "fiveUTRalignment_dict = readAlignment(aligned_fiveUTR_100nt)"
   ]
  },
  {
   "cell_type": "code",
   "execution_count": 57,
   "metadata": {},
   "outputs": [
    {
     "name": "stderr",
     "output_type": "stream",
     "text": [
      "C:\\Users\\Maste\\Anaconda3\\lib\\site-packages\\Bio\\Seq.py:2576: BiopythonWarning: Partial codon, len(sequence) not a multiple of three. Explicitly trim the sequence or add trailing N before translation. This may become an error in future.\n",
      "  BiopythonWarning)\n"
     ]
    }
   ],
   "source": [
    "plus1_dict = determineAltFrameLength(singleTranscriptTable)"
   ]
  },
  {
   "cell_type": "code",
   "execution_count": 58,
   "metadata": {},
   "outputs": [],
   "source": [
    "#custom_number that will depend on the alignment and requires manual insepction\n",
    "\n",
    "\n",
    "\n",
    "mammalian_CUG_location = 86"
   ]
  },
  {
   "cell_type": "code",
   "execution_count": 59,
   "metadata": {},
   "outputs": [],
   "source": [
    "kozak_motif_dict = kozakMotif(fiveUTRalignment_dict,mammalian_CUG_location)"
   ]
  },
  {
   "cell_type": "code",
   "execution_count": 60,
   "metadata": {},
   "outputs": [],
   "source": [
    "writeKozakMotif(kozak_motif_dict, kozak_file)"
   ]
  },
  {
   "cell_type": "code",
   "execution_count": null,
   "metadata": {},
   "outputs": [],
   "source": []
  },
  {
   "cell_type": "code",
   "execution_count": 71,
   "metadata": {},
   "outputs": [
    {
     "data": {
      "text/plain": [
       "{'accession': 'XM_003755551',\n",
       " 'bit_score': 1793.0,\n",
       " 'sequence': Seq('CTGGCGCCTCGTTCTAGACCAATCTCTGAGTTTTGCGGCGGGAGGGGGCGGGAC...AAG', IUPACAmbiguousDNA()),\n",
       " 'nam': 'PREDICTED: Sarcophilus harrisii DNA polymerase gamma, catalytic subunit (POLG), transcript variant X1, mRNA',\n",
       " 'start': 500,\n",
       " 'end': 4097}"
      ]
     },
     "execution_count": 71,
     "metadata": {},
     "output_type": "execute_result"
    }
   ],
   "source": [
    "singleTranscriptTable['Sarcophilus_harrisii']"
   ]
  },
  {
   "cell_type": "markdown",
   "metadata": {},
   "source": [
    "__Looking at protein__\n",
    "\n",
    "__Mammals__\n",
    "\n",
    "For this section, I am selecting all mammals that have a conserved CUG uORF start codon. \n",
    "\n",
    "Original ignore list I used --> This means that every mammal (with a 100 nt 3UTR) will be included excluding Camelus_ferus, Vombatus_ursinus, Phascolarctos_cinereus ,and Monodelphis_domestica.\n",
    "\n",
    "I am switching to the extended ignore list (getting rid of Sarcophilus_harisii) to see if it improves the protein alignment\n",
    "\n",
    "Most significant portion of the mammalian synplot (below a p-value of 10^-20) corresonds to the following amino acid sequence of the CUG ORF (roughly): GHPRGAGPGVRRGGLL. This starts at position 205 in the homo sapiens CUG ORF and ends at 221\n",
    "\n",
    "For transmembrane analysis, I'm going to take one mammal from each of the most major orders\n",
    "-->Rodentia: Mus_musculus\n",
    "-->Chiroptera: Myotis_lucifugus\n",
    "-->Eulipotyphla:I can't find one,\n",
    "------> I'm going to just use Orcinus_orca\n",
    "-->Primate: Homo_sapiens"
   ]
  },
  {
   "cell_type": "code",
   "execution_count": 131,
   "metadata": {},
   "outputs": [],
   "source": [
    "mammal_ignore_list = ['Camelus_ferus', 'Vombatus_ursinus', 'Phascolarctos_cinereus' ,'Monodelphis_domestica']\n",
    "mammal_ignore_list_extended = ['Camelus_ferus', 'Vombatus_ursinus', 'Phascolarctos_cinereus' ,'Monodelphis_domestica','Sarcophilus_harrisii']"
   ]
  },
  {
   "cell_type": "code",
   "execution_count": 132,
   "metadata": {},
   "outputs": [],
   "source": [
    "def getCUGProtein(UTR_trim_dict,ignore_list,singleTranscriptTable):\n",
    "    \n",
    "    CUG_protein_dict = {}\n",
    "    for item in UTR_trim_dict:\n",
    "        if item in ignore_list:\n",
    "            continue\n",
    "        fiveUTRcode = fiveUTRalignment_dict[item][86:]\n",
    "        fiveUTRCDS = ''\n",
    "        for nt in fiveUTRcode:\n",
    "            if nt != '-':\n",
    "                fiveUTRCDS = fiveUTRCDS+ nt\n",
    "        CUG_protein_dict[item] = (Seq('A') + fiveUTRCDS[1:] + (singleTranscriptTable[item]['sequence'])[singleTranscriptTable[item]['start']:]).translate(to_stop=True)\n",
    "    return CUG_protein_dict"
   ]
  },
  {
   "cell_type": "code",
   "execution_count": 133,
   "metadata": {},
   "outputs": [],
   "source": [
    "def writeUORFproteins(CUGprotein_dict, outfile):\n",
    "    file = open(outfile,'w')\n",
    "    for item in CUGprotein_dict:\n",
    "        file.write('>'+item+'\\n'+str(CUGprotein_dict[item])+'\\n')\n",
    "    file.close()\n",
    "        "
   ]
  },
  {
   "cell_type": "code",
   "execution_count": 134,
   "metadata": {},
   "outputs": [
    {
     "name": "stderr",
     "output_type": "stream",
     "text": [
      "C:\\Users\\Maste\\Anaconda3\\lib\\site-packages\\Bio\\Seq.py:2576: BiopythonWarning: Partial codon, len(sequence) not a multiple of three. Explicitly trim the sequence or add trailing N before translation. This may become an error in future.\n",
      "  BiopythonWarning)\n"
     ]
    }
   ],
   "source": [
    "CUGprotein_dict = getCUGProtein(UTR_trim_dict,mammal_ignore_list_extended,singleTranscriptTable)"
   ]
  },
  {
   "cell_type": "code",
   "execution_count": null,
   "metadata": {},
   "outputs": [],
   "source": []
  },
  {
   "cell_type": "code",
   "execution_count": 135,
   "metadata": {},
   "outputs": [],
   "source": [
    "writeUORFproteins(CUGprotein_dict,CUGproteinfasta)"
   ]
  },
  {
   "cell_type": "code",
   "execution_count": 136,
   "metadata": {},
   "outputs": [],
   "source": [
    "runMuscle(CUGproteinfasta, CUGalignedprotein, muscle_executable)"
   ]
  },
  {
   "cell_type": "code",
   "execution_count": 137,
   "metadata": {},
   "outputs": [],
   "source": [
    "CUG_protein_alignment_dict = readAlignment(CUGalignedprotein)"
   ]
  },
  {
   "cell_type": "code",
   "execution_count": 138,
   "metadata": {},
   "outputs": [],
   "source": [
    "generateAlignmentFile(CUG_aligned_fasta, CUG_protein_alignment_dict)"
   ]
  },
  {
   "cell_type": "code",
   "execution_count": 150,
   "metadata": {},
   "outputs": [
    {
     "data": {
      "text/plain": [
       "'CGCGGGACCGTGCGCGGCGCAGACGGGAAGTTGCGGCTGCCAGCGGAGCGCACGGGGCGCGGGGAGGCCACACGCCACCCCGAGGCTGCGTAGGCCGCGCGGAGGGAGCAGCCGCGCCGCTGGCCTGGGGTCGGGAGCGGCAGGCCCGGAGGCCCTAGGCGGACCGAGGATTGCGGGTGGAAGGCAGGCATGGTCAGGCCCATTGCACTGACGGGAAGACAGAGACGAGACGTGTCTCTCCCCACGTCTTGCATCCGGTAAAAGCAGCCAAGCTGGAGCCCAAAGCCAGGGGTCCCGAATCCCAGCGGGGAGCTCCCTGCACCCACCATGAGCCGCCTGCTCTGGAGGAAAGTGGCCGGCTCCGCGGCCGTCGGGCCCGGGCCGGGGCCAGCAGCTCCGGGGCGCTGGGTCTCCAGCTCCGCCGCCATCCCCGGCCCCAGCGACGGGCTGCCGCCGCCGCCGCCAGCGCCATCCTCGGAGGAGCAGATATTAGGGGCCGGCGGCGGGGAGACGCCAGAAGAGTCCGCGGTGCGCCGCAGCGTGGAGCAATTGCAGAAGCACGGTCTTTGGGGGCACCCGGCAGCGCCCCTGCCCGACGTGGAGCTGCGCCTGCCGCCCCTCTACGGGGGCAGCCTGGACCAGCACTTCCGCCTCCTGGCGCAGAAGCAGAGCCTGCCCTACCTGGAGGCGGCCCACTCGCTCTTGCAGGCCCAGCTGCCCCCCAGGCCCCCGAGCTGGGCCTGGGCGGAGGGCTGGACCCGGTACGGCCCCGCGGGGGAGGCCGAACCCGTGGCCATCCCCGAGGAGCGGGCCCTGGTGTTCGACGTGGAGGTCTGCTTGGCAGAGGGAACCTGCCCCACGCTGGCGGTGGCCATATCCCCCTCGGCCTGGTATTCCTGGTGCAGCCGGCGGCTGGTGGAAGAGCGTTACTCCTGGACCAGCCAGCTGTCGCCGGCTGACCTCATCCCCCTGGAGGCCCCCGCCAGCGCCGGCCCCCCCCAGCGAGACGGGCAGGAGCAGCTAGTGGTGGGGCACAACGTCTCCTTTGACCGCGCCCACATCAGGGAGCAGTACCGGATCCAGGGCTCCCGCATGCGCTTCCTGGACACCATGAGCATGCACATGGCCATCTCGGGGCTGAGCAGCTTCCAGCGCAGCCTGTGGATGGCGGCCAAGCAGGGCAAGCACAAGGCCCGGCAGTTCACACAGCGAGCTCAGAAGTCCCAGGGCAAAGGCAACGGCCCAGCGGTCTCCTCCTGGGACTGGCTGGACATCAGCAGCGTCAACAACCTGGCGGACGTGCACGGCCTGTACGTCGGGGGGCCGCCCTTGGAGAAGGAGCCCCGCGAGCTCTTTGTCAAGGGCAGCATGAAGGACGTCCGCGAGAACTTCCAGGCCCTGATGCAGTACTGTGCCCAGGACGTGTGGGCCACCTACGAGGTCTTTCAGCAGCAGCTGCCCCTCTTCCTGGAGAGGTGTCCCCACCCGGTGACGCTGGCCGGCATGCTGGAGATGGGGGTGTCCTACCTGCCCGTCAACCAGAACTGGGAGCGCTACCTGGCGGAGGCGCAGAGCACCTACGAGGAGCTGCAGCGGGAGATGAAGAAGTCGCTGATGGACCTGGCCAACGACGCCTGCCAGCTGCTGTCGGGAGAGAGGTACAAAGACGACCCCTGGCTCTGGGACCTGGAGTGGGATCTGCAAGAGTTTAAGCAGAAGAAGGTGAAGCGGGTGAAGAGGAACGAGCCGGCTGCCACCAGCGACGTGCCCACCGAGGGTGCCGGGGCCCCTGGAGACGCCCGGGATCAGGAAGACCCCGGCCCCCCCAGTGAGGAGGAGGAGCTGCAGCGCGCTGTCACGGCCCGCGCCTGCTTGGAGCAGCTGAAGGGGACCACGGAGCTCCTGCCCAAGCGGCCCCAGCACCTTCCTGGACACCCCGGGTGGTACCGGAAGCTCTGTCCCCGGCTAGATGACCCTGCGTGGACCCCGGGCCCCAGCCTCCTCAGCCTGCAGATGCGCGTCACACCCAAGCTCATGGCGCTGACCTGGGACGGCTTCCCCCTGCACTTCTCAGAGCGGCACGGCTGGGGGTACCTGGTGCCCGGGCGGCGGGACAACCTGGCTAAGGTGCCATCCTCGGGGGTGGCCTGCCCCTACAGAGCCATCGAGTCCCTGTACGGGAAGCACTGCGCCGAGCAGGGGAAGCGGCAGCCGGAGCCGCAGGCAGCGCGCCTGGCCGAGGAGTTCCTGCTCAGCGAGAGCAGCACCCAGTGGCAGATGGTGGAAGAGCTGGGCTGCTTGGAGGTGCAGGATGAGGCCAAGGCGGACAACTCGGAGGCGGCAGTTCCGGGTCAGCCCCCAGCTCTGACAGGGGCTGGCGGCCCCAAAGCCAGCCAGCCAGCCTATCACCACGGCAACGGACCCTACCACGACGTGGACATCCCCGGCTGCTGGTTCTTCAAGCTGCCGCACAAGGACGGCAACAGCTGCAACGTGGGCAGCCCCTTCGCCAAGGACTTCCTGCCCAAGATGGAGGACGGCACCCTGCAGGCGGGCCCGGGAGGCGCCAGTGGGCCCCGGGCCTTGGAGATCAACAAGATGATTTCTTTCTGGAGGAATGCCCACAAACGGATCAGCTCCCAGATGGTGGTGTGGCTGCCCAGGTCGGCTCTGCCCCGTGCTGTGACCAGGCACCCAGATTACGATGAGGAAAACCGCTACGGGGCCATCCTGCCCCAGGTGGTGACCGCCGGCACCATCACCCGCCGGGCCGTGGAGCCCACGTGGCTCACCGCCAGCAACGCCCGGCCCGACCGAGTGGGCAGCGAGCTGAAGGCCATGGTGCAGGCCCCGCCCGGCTACGTCCTGGTGGGCGCCGACGTGGACTCGCAGGAGCTGTGGATCGCAGCGGTGCTGGGAGACGCCCACTTCGCGGGCATGCACGGCTGCACGGCCTTCGGCTGGATGACCCTGCAGGGCCGCAAGAGCAGGGGCACCGACCTGCACAGCAAGACGGCCGCCACCGTGGGCATCAGCCGCGAGCACGCCAAGGTCTTCAACTACGGCCGCATCTACGGGGCTGGGCAGCCCTTCGCCGAGCGCCTGCTGATGCAGTTCAACCACCGCCTCACCTCCCAGGAGGCAGCCGAGAAGGCCCAGCAGATGTACGCCGTCACCAAGGGCCTGCGCAGGTATCGGCTGTCTGATGAGGGTGAGTGGCTGGTGAGGCAGCTGAACATCCCCGTGGAGAGGACCGAGGACGGCTGCGTTTCCCTGCAGGATCTGCGCAAGGTCCAGAGGGAAGCTTCGAGAAAGTCCCGCGGGAAGAAGTGGAACGTGGTTGCGGAACGTATGTGGACGGGGGGCACGGAGTCAGAGATGTTCAACAAGCTGGAGAGCATCGCCACGGCCGACGAGCCACGCACCCCGGTGCTGGGCTGCCGCATCAGCCGGGCCCTGGAGCCCTCAGTGGCTCAGGGGGAGTTCATGACCAGCCGGGTGAACTGGGTGGTGCAGAGCTCCGCCGTGGACTACCTGCACCTCATGCTCGTGGCCATGAAGTGGCTGTTCGAGGAGTTCGCCATCGACGGGCGCTTCTGCATCAGCATCCACGACGAGGTCCGCTACCTGGTGCGCGAGGAGGACCGCTACCGCGCGGCCCTGGCCCTGCAGATCACCAACCTGCTGACCAGGTGCATGTTCGCCTACAAGCTGGGCCTCAATGACCTGCCCCAGTCAGTCGCCTTTTTCAGCGCCGTCGACATTGACCGGTGTCTCAGGAAGGAAGTGACCATGGATTGTAAGACCCCCTCCAACCCGACGGGGATGGAAAGGAGATACGGGGTTCCCCAGGGCGAAGCGCTGGATATCTACCAGGTCCTGGAACTCACCAAAGGCTCCCTGGAGAGGCGCGGCCGGCCGGGCCCGTAGCCGCCGAGGCGGCATTGCTCCCGTGGAGCTCACCGGGTGCGCGGCGCCCACACTCAGGCTTTCGGCTGCGCGTTGCCAGGAGCAGGCCCTGCCAGGGAGGCCCGCCTGTCACAGAAGGTGCAGCTGAGTTCAACGGGTTCAGAAACAAGAGGCCGACGTCAGTGCAGGCTGTCGGACCAGGGGCCGTGCTGCTGGTCGGGTAAACAGGAAGCAGAAGCCCCAAAGGGCACATTAACTCAGGCATTTCGTTTCTTTTCTCCTTTTCTTCTTGGCGGGTTCTTTGTTCTGTTCTCCGTGCTCTGACGTGGTGTCCTAGAAGGAGACGGGGACCACCCTGCTCAGAGGCCCGGAAATAAACAGATCCTTTATCTTCTCA'"
      ]
     },
     "execution_count": 150,
     "metadata": {},
     "output_type": "execute_result"
    }
   ],
   "source": [
    "str(singleTranscriptTable['Myotis_lucifugus']['sequence'])"
   ]
  },
  {
   "cell_type": "code",
   "execution_count": 153,
   "metadata": {},
   "outputs": [
    {
     "data": {
      "text/plain": [
       "'MEPKARCSDSQRGGPCTNHEPPALEEGGRRHRRARAGSSSGALGLQLRPRVRPQRRAAAAAAAAAAAAAAATAASAAASAILGGRAAAAQPIGHPDALERAARANLRARRGDAWRGRGAPQRRAPAEARALGAASRALARRGAAPAAPLRGQPGPALPPPGPEAEPALPGGGQLAVAGPAAPEAPGLGLGGGLDPVRPRGGGRTRGHPRGAGPGVRRGGLLGRGNLPHIGGGHIPLGLVFLVQPAAGGRALLLDQPAVAG'"
      ]
     },
     "execution_count": 153,
     "metadata": {},
     "output_type": "execute_result"
    }
   ],
   "source": [
    "(str(CUGprotein_dict['Homo_sapiens']))"
   ]
  },
  {
   "cell_type": "markdown",
   "metadata": {},
   "source": [
    "__Looking at RNA secondary structure between CUG and AUG start codon__\n",
    "\n",
    "__Mammalia__\n",
    "\n",
    "I'm going to use the same sequences that I used for the protein analysis. If the CUG is in the p-site, then the following 3 nucleotides will be in the A-site. The following 5 nucleotides will be in the entry tunnel of the ribosome. Thus I should only consider the nucleotides 8 away from the CUG intiiation site"
   ]
  },
  {
   "cell_type": "code",
   "execution_count": 115,
   "metadata": {},
   "outputs": [],
   "source": [
    "def getCUGRNA(UTR_trim_dict,ignore_list,singleTranscriptTable):\n",
    "    \n",
    "    CUG_RNA_dict = {}\n",
    "    for item in UTR_trim_dict:\n",
    "        if item in ignore_list:\n",
    "            continue\n",
    "        fiveUTRcode = fiveUTRalignment_dict[item][86:]\n",
    "        fiveUTRCDS = ''\n",
    "        for nt in fiveUTRcode:\n",
    "            if nt != '-':\n",
    "                fiveUTRCDS = fiveUTRCDS+ nt\n",
    "        fiveUTRCDS = fiveUTRCDS[10:]\n",
    "        CUG_RNA_dict[item] = Seq(fiveUTRCDS).transcribe()\n",
    "    return CUG_RNA_dict"
   ]
  },
  {
   "cell_type": "code",
   "execution_count": 116,
   "metadata": {},
   "outputs": [],
   "source": [
    "def writeRNA(RNA_dict, outfile):\n",
    "    file = open(outfile,'w')\n",
    "    for item in RNA_dict:\n",
    "        file.write('>'+item+'\\n'+str(RNA_dict[item])+'\\n')\n",
    "    file.close()\n",
    "        "
   ]
  },
  {
   "cell_type": "code",
   "execution_count": null,
   "metadata": {},
   "outputs": [],
   "source": []
  },
  {
   "cell_type": "code",
   "execution_count": 117,
   "metadata": {},
   "outputs": [],
   "source": [
    "CUGRNA_dict = getCUGRNA(UTR_trim_dict,mammal_ignore_list_extended,singleTranscriptTable)"
   ]
  },
  {
   "cell_type": "code",
   "execution_count": 118,
   "metadata": {},
   "outputs": [],
   "source": [
    "writeRNA(CUGRNA_dict, CUGRNAfasta)"
   ]
  },
  {
   "cell_type": "code",
   "execution_count": 119,
   "metadata": {},
   "outputs": [],
   "source": [
    "runMuscle(CUGRNAfasta, CUGalignedRNA, muscle_executable)"
   ]
  },
  {
   "cell_type": "code",
   "execution_count": 120,
   "metadata": {},
   "outputs": [],
   "source": [
    "CUG_RNA_alignment_dict = readAlignment(CUGalignedRNA)"
   ]
  },
  {
   "cell_type": "code",
   "execution_count": 121,
   "metadata": {},
   "outputs": [],
   "source": [
    "generateAlignmentFile(CUG_RNA_aligned_fasta, CUG_RNA_alignment_dict)"
   ]
  },
  {
   "cell_type": "code",
   "execution_count": null,
   "metadata": {},
   "outputs": [],
   "source": []
  },
  {
   "cell_type": "markdown",
   "metadata": {},
   "source": [
    "__Looking at second uORF__\n",
    "\n",
    "In homo sapiens, the uORF is located 138 nucleotides away from the main AUG, with the UTR length being 334 total nucleotides (POLG-201 from Ensembl). The length of this ORF is 72 nucleotides.  I think I will filter sequences here to 150 nucleotides of length and try to align the entire 5'-UTRs of sequences\n",
    "\n",
    "I decided to add Sarcophilus harisii to the ignore list because just because it has the CUG doesn't mean the uORFs are conserved --> it also messes up the alignment\n",
    "\n",
    "This is additionally interesting because 4 out of 5 of the sequences on the ignore list are marsupials and the 5th is Camelus_ferus. For some reason, I feel like all Camel genomes are super gappy when put into an alignment with other species. Perhaps the quality of deposition for Camels on NCBI was not good?\n",
    "\n",
    "The consensus Kozak Sequence for the upstream AUG is quite decent\n",
    "\n",
    "\n",
    "\n"
   ]
  },
  {
   "cell_type": "code",
   "execution_count": 84,
   "metadata": {},
   "outputs": [],
   "source": [
    "mammal_ignore_list_extended = ['Camelus_ferus', 'Vombatus_ursinus', 'Phascolarctos_cinereus' ,'Monodelphis_domestica','Sarcophilus_harrisii']"
   ]
  },
  {
   "cell_type": "code",
   "execution_count": 113,
   "metadata": {},
   "outputs": [],
   "source": [
    "def writeUTRfile(five_150_UTR_dict, filename, ignore_list):\n",
    "    file = open(filename, 'w')\n",
    "    for item in five_150_UTR_dict:\n",
    "        if item in ignore_list:\n",
    "            print(item)\n",
    "            continue    \n",
    "        file.write('>'+item+'\\n'+str(five_150_UTR_dict[item]['fiveUTR'])+'\\n')\n",
    "    file.close()"
   ]
  },
  {
   "cell_type": "code",
   "execution_count": 187,
   "metadata": {},
   "outputs": [],
   "source": [
    "def getuORFProtein(UTR_dict,ignore_list,singleTranscriptTable,reference):\n",
    "    reference -= 1\n",
    "    uORF_protein_dict = {}\n",
    "    for item in UTR_dict:\n",
    "        if item in ignore_list:\n",
    "            continue\n",
    "        fiveUTRcode = UTR_dict[item][reference:]\n",
    "        fiveUTRCDS = ''\n",
    "        for nt in fiveUTRcode:\n",
    "            if nt != '-':\n",
    "                fiveUTRCDS = fiveUTRCDS+ nt\n",
    "\n",
    "        \n",
    "        start = int(singleTranscriptTable[item]['sequence'].find(fiveUTRCDS))\n",
    "        uORF_protein_dict[item] = (singleTranscriptTable[item]['sequence'][start:]).translate(to_stop=True)\n",
    "            \n",
    "        \n",
    "        #uORF_protein_dict[item] = (Seq('A') + fiveUTRCDS[1:] + singleTranscriptTable[item]['sequence']).translate(to_stop=True)\n",
    "    return uORF_protein_dict"
   ]
  },
  {
   "cell_type": "code",
   "execution_count": 227,
   "metadata": {},
   "outputs": [],
   "source": [
    "def getuORFRNA(UTR_dict,ignore_list,singleTranscriptTable):\n",
    "    \n",
    "    uORF_RNA_dict = {}\n",
    "    for item in UTR_dict:\n",
    "        if item in ignore_list:\n",
    "            continue\n",
    "        fiveUTRcode = UTR_dict[item][uORF_AUG_reference:]\n",
    "        fiveUTRCDS = ''\n",
    "        for nt in fiveUTRcode:\n",
    "            if nt != '-':\n",
    "                fiveUTRCDS = fiveUTRCDS+ nt\n",
    "        fiveUTRCDS = fiveUTRCDS[10:]\n",
    "        uORF_RNA_dict[item] = Seq(fiveUTRCDS).transcribe()\n",
    "    return uORF_RNA_dict"
   ]
  },
  {
   "cell_type": "code",
   "execution_count": null,
   "metadata": {},
   "outputs": [],
   "source": []
  },
  {
   "cell_type": "code",
   "execution_count": 145,
   "metadata": {},
   "outputs": [],
   "source": [
    "five_150_UTR_dict = extractfiveUTR(singleTranscriptTable, 150)"
   ]
  },
  {
   "cell_type": "code",
   "execution_count": 146,
   "metadata": {},
   "outputs": [
    {
     "name": "stdout",
     "output_type": "stream",
     "text": [
      "Phascolarctos_cinereus\n",
      "Vombatus_ursinus\n",
      "Sarcophilus_harrisii\n",
      "Camelus_ferus\n"
     ]
    }
   ],
   "source": [
    "writeUTRfile(five_150_UTR_dict, full_5UTR_fasta, mammal_ignore_list_extended)"
   ]
  },
  {
   "cell_type": "code",
   "execution_count": 147,
   "metadata": {},
   "outputs": [],
   "source": [
    "runMuscle(full_5UTR_fasta, aligned_fiveUTR_full, muscle_executable)"
   ]
  },
  {
   "cell_type": "code",
   "execution_count": 148,
   "metadata": {},
   "outputs": [],
   "source": [
    "full5UTR_alignment_dict = readAlignment(aligned_fiveUTR_full)"
   ]
  },
  {
   "cell_type": "code",
   "execution_count": 149,
   "metadata": {},
   "outputs": [],
   "source": [
    "file = open('reordered_5UTR_Full_alignment.fasta','w')\n",
    "for item in full5UTR_alignment_dict:\n",
    "    if item == 'Homo_sapiens':\n",
    "        file.write('>'+item+'\\n'+full5UTR_alignment_dict[item]+'\\n')\n",
    "for item in full5UTR_alignment_dict:\n",
    "    if item != 'Homo_sapiens':\n",
    "        file.write('>'+item+'\\n'+full5UTR_alignment_dict[item]+'\\n')\n",
    "file.close()"
   ]
  },
  {
   "cell_type": "markdown",
   "metadata": {},
   "source": [
    "With this alignment, the uORF AUG begins at position 1222 in the alignment"
   ]
  },
  {
   "cell_type": "code",
   "execution_count": 150,
   "metadata": {},
   "outputs": [],
   "source": [
    "uORF_AUG_reference = 1222"
   ]
  },
  {
   "cell_type": "code",
   "execution_count": 151,
   "metadata": {},
   "outputs": [],
   "source": [
    "uORF_AUG_kozak_dict = kozakMotif(full5UTR_alignment_dict,uORF_AUG_reference)"
   ]
  },
  {
   "cell_type": "code",
   "execution_count": 152,
   "metadata": {},
   "outputs": [],
   "source": [
    "writeKozakMotif(uORF_AUG_kozak_dict, uORF_kozak_file)"
   ]
  },
  {
   "cell_type": "code",
   "execution_count": 188,
   "metadata": {},
   "outputs": [
    {
     "name": "stderr",
     "output_type": "stream",
     "text": [
      "C:\\Users\\Maste\\Anaconda3\\lib\\site-packages\\Bio\\Seq.py:2576: BiopythonWarning: Partial codon, len(sequence) not a multiple of three. Explicitly trim the sequence or add trailing N before translation. This may become an error in future.\n",
      "  BiopythonWarning)\n"
     ]
    }
   ],
   "source": [
    "uORF_protein_dict = getuORFProtein(full5UTR_alignment_dict,mammal_ignore_list_extended,singleTranscriptTable,uORF_AUG_reference)"
   ]
  },
  {
   "cell_type": "code",
   "execution_count": 193,
   "metadata": {},
   "outputs": [],
   "source": [
    "writeUORFproteins(uORF_protein_dict,uORFproteinfasta)"
   ]
  },
  {
   "cell_type": "code",
   "execution_count": 196,
   "metadata": {},
   "outputs": [],
   "source": [
    "runMuscle(uORFproteinfasta, uORFalignedprotein, muscle_executable)"
   ]
  },
  {
   "cell_type": "code",
   "execution_count": 197,
   "metadata": {},
   "outputs": [],
   "source": [
    "uORF_protein_alignment_dict = readAlignment(uORFalignedprotein)"
   ]
  },
  {
   "cell_type": "code",
   "execution_count": 199,
   "metadata": {},
   "outputs": [],
   "source": [
    "generateAlignmentFile(uORF_aligned_fasta, uORF_protein_alignment_dict)"
   ]
  },
  {
   "cell_type": "code",
   "execution_count": 228,
   "metadata": {},
   "outputs": [],
   "source": []
  },
  {
   "cell_type": "code",
   "execution_count": 238,
   "metadata": {},
   "outputs": [],
   "source": [
    "uORF_RNA_dict = getuORFRNA(full5UTR_alignment_dict,mammal_ignore_list_extended,singleTranscriptTable)"
   ]
  },
  {
   "cell_type": "code",
   "execution_count": 239,
   "metadata": {},
   "outputs": [],
   "source": [
    "writeRNA(uORF_RNA_dict, uORF_RNA_outfile)"
   ]
  },
  {
   "cell_type": "code",
   "execution_count": 241,
   "metadata": {},
   "outputs": [],
   "source": [
    "runMuscle(uORF_RNA_outfile, uORF_alignedRNA, muscle_executable)"
   ]
  },
  {
   "cell_type": "code",
   "execution_count": 244,
   "metadata": {},
   "outputs": [],
   "source": [
    "uORF_RNA_alignment_dict = readAlignment(uORF_alignedRNA)"
   ]
  },
  {
   "cell_type": "code",
   "execution_count": 245,
   "metadata": {},
   "outputs": [],
   "source": [
    "generateAlignmentFile(uORF_RNA_aligned_fasta, uORF_RNA_alignment_dict)"
   ]
  },
  {
   "cell_type": "code",
   "execution_count": null,
   "metadata": {},
   "outputs": [],
   "source": []
  },
  {
   "cell_type": "code",
   "execution_count": null,
   "metadata": {},
   "outputs": [],
   "source": []
  },
  {
   "cell_type": "markdown",
   "metadata": {},
   "source": [
    "__Analysis of ribosome profiling__\n",
    "\n",
    "This data was downloaded from Tripz-Viz on 10-1-19 from the following link (https://trips.ucc.ie/homo_sapiens/Gencode_v25/interactive_plot/?files=&ribo_studies=18,20,21,23,24,27,28,29,31,32,33,34,35,38,39,42,43,44,45,56,58,60,62,63,64,67,89,90,99,101,102,103,107,113,122,124,130,134,138,141,144,150,152,153,165,171,172,176,177,178,179,181,183,190,191,192,201,204,212,&tran=ENST00000268124&minread=25&maxread=150&user_dir=fiveprime&ambig=F&cov=F&lg=T&nuc=F&rs=0&crd=F&short=mcr) with the following transcript identifier (ENST00000268124)"
   ]
  },
  {
   "cell_type": "code",
   "execution_count": 1,
   "metadata": {},
   "outputs": [],
   "source": [
    "def processRiboSeqcsv(riboseq_file):\n",
    "    riboseq_dict = {}\n",
    "    Position_list = []\n",
    "    Sequence_list = []\n",
    "    Frame1_list = []\n",
    "    Frame2_list = []\n",
    "    Frame3_list = []\n",
    "    RNASeq_list = []\n",
    "    with open(riboseq_file) as f:\n",
    "            reader = csv.DictReader(f, delimiter = \",\")\n",
    "            for row in reader:\n",
    "                Position_list.append(row['ï»¿Position'])\n",
    "                Sequence_list.append(row['Sequence'])\n",
    "                Frame1_list.append(row['Frame 1'])\n",
    "                Frame2_list.append(row['Frame 2'])\n",
    "                Frame3_list.append(row[' Frame 3'])\n",
    "                RNASeq_list.append(row['RNA-Seq'])\n",
    "            \n",
    "    Riboseq_dict = {'Position':Position_list,'Sequence':Sequence_list,\n",
    "                   'Frame1':Frame1_list,'Frame2':Frame2_list,'Frame3':Frame3_list,'RNA_Seq':RNASeq_list}\n",
    "    return Riboseq_dict"
   ]
  },
  {
   "cell_type": "code",
   "execution_count": 2,
   "metadata": {},
   "outputs": [],
   "source": [
    "def queryRiboSeq(sequence,Riboseq_dict):\n",
    "    full_length_sequence = ''\n",
    "    for nt in Riboseq_dict['Sequence']:\n",
    "        full_length_sequence += nt\n",
    "    if full_length_sequence.count(sequence) == 0:\n",
    "        print('Sequence was not found')\n",
    "        return\n",
    "    if full_length_sequence.count(sequence) !=1:\n",
    "        print('This sequence occurs more than once, try again with a unique sequence')\n",
    "        return\n",
    "    if full_length_sequence.count(sequence) ==1:\n",
    "        beg_index = 1+full_length_sequence.find(sequence)\n",
    "        end_index = beg_index + len(sequence)\n",
    "        \n",
    "    print(beg_index)\n",
    "    print(end_index)\n",
    "    subsequence_dict = {}\n",
    "    index_counter = beg_index\n",
    "    for nt in sequence:\n",
    "        if index_counter == end_index:\n",
    "            continue\n",
    "        \n",
    "        Frame1_count = Riboseq_dict['Frame1'][index_counter-1]\n",
    "        Frame2_count = Riboseq_dict['Frame2'][index_counter-1]\n",
    "        Frame3_count = Riboseq_dict['Frame3'][index_counter-1]\n",
    "        RNASeq_count = Riboseq_dict['RNA_Seq'][index_counter-1]\n",
    "        \n",
    "        subsequence_dict[index_counter] = {}\n",
    "        subsequence_dict[index_counter]['Nucleotide'] = {nt}\n",
    "        subsequence_dict[index_counter]['Frame1'] = {int(Frame1_count)}\n",
    "        subsequence_dict[index_counter]['Frame2'] = {int(Frame2_count)}\n",
    "        subsequence_dict[index_counter]['Frame3'] = {int(Frame3_count)}\n",
    "        subsequence_dict[index_counter]['RNASeq'] = {int(RNASeq_count)}\n",
    "        index_counter +=1\n",
    "    return subsequence_dict\n",
    "        \n",
    "        \n",
    "    "
   ]
  },
  {
   "cell_type": "code",
   "execution_count": 37,
   "metadata": {},
   "outputs": [],
   "source": [
    "def printRiboSeqAnalysis(sequence_dict):\n",
    "    full_subsequence = ''\n",
    "    x_total_fr1_counts = float(0)\n",
    "    x_total_fr2_counts = float(0)\n",
    "    x_total_fr3_counts = float(0)\n",
    "    total_fr1_counts = float(0)\n",
    "    total_fr2_counts = float(0)\n",
    "    total_fr3_counts = float(0)\n",
    "    total_all_counts = float(0)\n",
    "    for index in sequence_dict:\n",
    "        for item in sequence_dict[index]['Nucleotide']:\n",
    "            nt = item\n",
    "        full_subsequence += nt\n",
    "        for item in sequence_dict[index]['Frame1']:\n",
    "            fr1_count = float(item)\n",
    "        for item in sequence_dict[index]['Frame2']:\n",
    "            fr2_count = float(item)\n",
    "        for item in sequence_dict[index]['Frame3']:\n",
    "            fr3_count = float(item)\n",
    "        for item in sequence_dict[index]['RNASeq']:\n",
    "            RNASeq_count = float(item)\n",
    "            if RNASeq_count == 0:\n",
    "                RNASeq_count = 1\n",
    "        \n",
    "        \n",
    "        x_total_fr1_counts += (fr1_count/RNASeq_count)\n",
    "        x_total_fr2_counts += (fr2_count/RNASeq_count)\n",
    "        x_total_fr3_counts += (fr3_count/RNASeq_count)\n",
    "    total_fr1_counts = x_total_fr1_counts/float(len(full_subsequence))\n",
    "    total_fr2_counts = x_total_fr2_counts/float(len(full_subsequence))\n",
    "    total_fr3_counts = x_total_fr3_counts/float(len(full_subsequence))\n",
    "    total_all_counts = total_fr1_counts+total_fr2_counts+total_fr3_counts\n",
    "    #counts_per_nt = total_all_counts/float(len(full_subsequence))\n",
    "    print('For the sequence %s, Frame 1 has %f reads, Frame 2 has %f reads, Frame 3 has %f reads, and there are a total of %f reads. '%(full_subsequence,total_fr1_counts,total_fr2_counts,total_fr3_counts,total_all_counts))"
   ]
  },
  {
   "cell_type": "code",
   "execution_count": 38,
   "metadata": {},
   "outputs": [],
   "source": [
    "uORF_sequence = 'ATGGTCAAACCCATTTCACTGACAGGAGAGCAGAGACAGGACGTGTCTCTCTCCACGTCTTCCAGCCAGTAAA'\n",
    "CTG_sequence = 'CTGGAGCCCAAAGCCAGGTGTTCTGACTCCCAGCGTGGGGGTCCCTGCACCAACCATGAGCCGCCTGCTCTGGAGGAAGGTGGCCGGCGCCACCGTCGGGCCAGGGCCGGTTCCAGCTCCGGGGCGCTGGGTCTCCAGCTCCGTCCCCGCGTCCGACCCCAGCGACGGGCAGCGGCGGCGGCAGCAGCAGCAGCAGCAGCAGCAGCAGCAGCAACAGCAGCCTCAGCAGCCGCAAGTGCTATCCTCGGAGGGCGGGCAGCTGCGGCACAACCCATTGGACATCCAGATGCTCTCGAGAGGGCTGCACGAGCAAATCTTCGGGCAAGGAGGGGAGATGCCTGGCGAGGCCGCGGTGCGCCGCAGCGTCGAGCACCTGCAGAAGCACGGGCTCTGGGGGCAGCCAGCCGTGCCCTTGCCCGACGTGGAGCTGCGCCTGCCGCCCCTCTACGGGGACAACCTGGACCAGCACTTCCGCCTCCTGGCCCAGAAGCAGAGCCTGCCCTACCTGGAGGCGGCCAACTTGCTGTTGCAGGCCCAGCTGCCCCCGAAGCCCCCGGCTTGGGCCTGGGCGGAGGGCTGGACCCGGTACGGCCCCGAGGGGGAGGCCGTACCCGTGGCCATCCCCGAGGAGCGGGCCCTGGTGTTCGACGTGGAGGTCTGCTTGGCAGAGGGAACTTGCCCCACATTGGCGGTGGCCATATCCCCCTCGGCCTGGTATTCCTGGTGCAGCCAGCGGCTGGTGGAAGAGCGTTACTCTTGGACCAGCCAGCTGTCGCCGGCTGA'\n",
    "Main_ORF= 'ATGAGCCGCCTGCTCTGGAGGAAGGTGGCCGGCGCCACCGTCGGGCCAGGGCCGGTTCCAGCTCCGGGGCGCTGGGTCTCCAGCTCCGTCCCCGCGTCCGACCCCAGCGACGGGCAGCGGCGGCGGCAGCAGCAGCAGCAGCAGCAGCAGCAGCAGCAACAGCAGCCTCAGCAGCCGCAAGTGCTATCCTCGGAGGGCGGGCAGCTGCGGCACAACCCATTGGACATCCAGATGCTCTCGAGAGGGCTGCACGAGCAAATCTTCGGGCAAGGAGGGGAGATGCCTGGCGAGGCCGCGGTGCGCCGCAGCGTCGAGCACCTGCAGAAGCACGGGCTCTGGGGGCAGCCAGCCGTGCCCTTGCCCGACGTGGAGCTGCGCCTGCCGCCCCTCTACGGGGACAACCTGGACCAGCACTTCCGCCTCCTGGCCCAGAAGCAGAGCCTGCCCTACCTGGAGGCGGCCAACTTGCTGTTGCAGGCCCAGCTGCCCCCGAAGCCCCCGGCTTGGGCCTGGGCGGAGGGCTGGACCCGGTACGGCCCCGAGGGGGAGGCCGTACCCGTGGCCATCCCCGAGGAGCGGGCCCTGGTGTTCGACGTGGAGGTCTGCTTGGCAGAGGGAACTTGCCCCACATTGGCGGTGGCCATATCCCCCTCGGCCTGGTATTCCTGGTGCAGCCAGCGGCTGGTGGAAGAGCGTTACTCTTGGACCAGCCAGCTGTCGCCGGCTGACCTCATCCCCCTGGAGGTCCCTACTGGTGCCAGCAGCCCCACCCAGAGAGACTGGCAGGAGCAGTTAGTGGTGGGGCACAATGTTTCCTTTGACCGAGCTCATATCAGGGAGCAGTACCTGATCCAGGGTTCCCGCATGCGTTTCCTGGACACCATGAGCATGCACATGGCCATCTCAGGGCTAAGCAGCTTCCAGCGCAGTCTGTGGATAGCAGCCAAGCAGGGCAAACACAAGGTCCAGCCCCCCACAAAGCAAGGCCAGAAGTCCCAGAGGAAAGCCAGAAGAGGCCCAGCGATCTCATCCTGGGACTGGCTGGACATCAGCAGTGTCAACAGTCTGGCAGAGGTGCACAGACTTTATGTAGGGGGGCCTCCCTTAGAGAAGGAGCCTCGAGAACTGTTTGTGAAGGGCACCATGAAGGACATTCGTGAGAACTTCCAGGACCTGATGCAGTACTGTGCCCAGGACGTGTGGGCCACCCATGAGGTTTTCCAGCAGCAGCTACCGCTCTTCTTGGAGAGGTGTCCCCACCCAGTGACTCTGGCCGGCATGCTGGAGATGGGTGTCTCCTACCTGCCTGTCAACCAGAACTGGGAGCGTTACCTGGCAGAGGCACAGGGCACTTATGAGGAGCTCCAGCGGGAGATGAAGAAGTCGTTGATGGATCTGGCCAATGATGCCTGCCAGCTGCTCTCAGGAGAGAGGTACAAAGAAGACCCCTGGCTCTGGGACCTGGAGTGGGACCTGCAAGAATTTAAGCAGAAGAAAGCTAAGAAGGTGAAGAAGGAACCAGCCACAGCCAGCAAGTTGCCCATCGAGGGGGCTGGGGCCCCTGGTGATCCCATGGATCAGGAAGACCTCGGCCCCTGCAGTGAGGAGGAGGAGTTTCAACAAGATGTCATGGCCCGCGCCTGCTTGCAGAAGCTGAAGGGGACCACAGAGCTCCTGCCCAAGCGGCCCCAGCACCTTCCTGGACACCCTGGATGGTACCGGAAGCTCTGCCCCCGGCTAGACGACCCTGCATGGACCCCGGGCCCCAGCCTCCTCAGCCTGCAGATGCGGGTCACACCTAAACTCATGGCACTTACCTGGGATGGCTTCCCTCTGCACTACTCAGAGCGTCATGGCTGGGGCTACTTGGTGCCTGGGCGGCGGGACAACCTGGCCAAGCTGCCGACAGGTACCACCCTGGAGTCAGCTGGGGTGGTCTGCCCCTACAGAGCCATCGAGTCCCTGTACAGGAAGCACTGTCTCGAACAGGGGAAGCAGCAGCTGATGCCCCAGGAGGCCGGCCTGGCGGAGGAGTTCCTGCTCACTGACAATAGTGCCATATGGCAAACGGTAGAAGAACTGGATTACTTAGAAGTGGAGGCTGAGGCCAAGATGGAGAACTTGCGAGCTGCAGTGCCAGGTCAACCCCTAGCTCTGACTGCCCGTGGTGGCCCCAAGGACACCCAGCCCAGCTATCACCATGGCAATGGACCTTACAACGACGTGGACATCCCTGGCTGCTGGTTTTTCAAGCTGCCTCACAAGGATGGTAATAGCTGTAATGTGGGAAGCCCCTTTGCCAAGGACTTCCTGCCCAAGATGGAGGATGGCACCCTGCAGGCTGGCCCAGGAGGTGCCAGTGGGCCCCGTGCTCTGGAAATCAACAAAATGATTTCTTTCTGGAGGAACGCCCATAAACGTATCAGCTCCCAGATGGTGGTGTGGCTGCCCAGGTCAGCTCTGCCCCGTGCTGTGATCAGGCACCCCGACTATGATGAGGAAGGCCTCTATGGGGCCATCCTGCCCCAAGTGGTGACTGCCGGCACCATCACTCGCCGGGCTGTGGAGCCCACATGGCTCACCGCCAGCAATGCCCGGCCTGACCGAGTAGGCAGTGAGTTGAAAGCCATGGTGCAGGCCCCACCTGGCTACACCCTTGTGGGTGCTGATGTGGACTCCCAAGAGCTGTGGATTGCAGCTGTGCTTGGAGACGCCCACTTTGCCGGCATGCATGGCTGCACAGCCTTTGGGTGGATGACACTGCAGGGCAGGAAGAGCAGGGGCACTGATCTACACAGTAAGACAGCCACTACTGTGGGCATCAGCCGTGAGCATGCCAAAATCTTCAACTACGGCCGCATCTATGGTGCTGGGCAGCCCTTTGCTGAGCGCTTACTAATGCAGTTTAACCACCGGCTCACACAGCAGGAGGCAGCTGAGAAGGCCCAGCAGATGTACGCTGCCACCAAGGGCCTCCGCTGGTATCGGCTGTCGGATGAGGGCGAGTGGCTGGTGAGGGAGTTGAACCTCCCAGTGGACAGGACTGAGGGTGGCTGGATTTCCCTGCAGGATCTGCGCAAGGTCCAGAGAGAAACTGCAAGGAAGTCACAGTGGAAGAAGTGGGAGGTGGTTGCTGAACGGGCATGGAAGGGGGGCACAGAGTCAGAAATGTTCAATAAGCTTGAGAGCATTGCTACGTCTGACATACCACGTACCCCGGTGCTGGGCTGCTGCATCAGCCGAGCCCTGGAGCCCTCGGCTGTCCAGGAAGAGTTTATGACCAGCCGTGTGAATTGGGTGGTACAGAGCTCTGCTGTTGACTACTTACACCTCATGCTTGTGGCCATGAAGTGGCTGTTTGAAGAGTTTGCCATAGATGGGCGCTTCTGCATCAGCATCCATGACGAGGTTCGCTACCTGGTGCGGGAGGAGGACCGCTACCGCGCTGCCCTGGCCTTGCAGATCACCAACCTCTTGACCAGGTGCATGTTTGCCTACAAGCTGGGTCTGAATGACTTGCCCCAGTCAGTCGCCTTTTTCAGTGCAGTCGATATTGACCGGTGCCTCAGGAAGGAAGTGACCATGGATTGTAAAACCCCTTCCAACCCAACTGGGATGGAAAGGAGATACGGGATTCCCCAGGGTGAAGCGCTGGATATTTACCAGATAATTGAACTCACCAAAGGCTCCTTGGAAAAACGAAGCCAGCCTGGACCATAG'\n",
    "Overlap_ORF = 'ATGAGCCGCCTGCTCTGGAGGAAGGTGGCCGGCGCCACCGTCGGGCCAGGGCCGGTTCCAGCTCCGGGGCGCTGGGTCTCCAGCTCCGTCCCCGCGTCCGACCCCAGCGACGGGCAGCGGCGGCGGCAGCAGCAGCAGCAGCAGCAGCAGCAGCAGCAACAGCAGCCTCAGCAGCCGCAAGTGCTATCCTCGGAGGGCGGGCAGCTGCGGCACAACCCATTGGACATCCAGATGCTCTCGAGAGGGCTGCACGAGCAAATCTTCGGGCAAGGAGGGGAGATGCCTGGCGAGGCCGCGGTGCGCCGCAGCGTCGAGCACCTGCAGAAGCACGGGCTCTGGGGGCAGCCAGCCGTGCCCTTGCCCGACGTGGAGCTGCGCCTGCCGCCCCTCTACGGGGACAACCTGGACCAGCACTTCCGCCTCCTGGCCCAGAAGCAGAGCCTGCCCTACCTGGAGGCGGCCAACTTGCTGTTGCAGGCCCAGCTGCCCCCGAAGCCCCCGGCTTGGGCCTGGGCGGAGGGCTGGACCCGGTACGGCCCCGAGGGGGAGGCCGTACCCGTGGCCATCCCCGAGGAGCGGGCCCTGGTGTTCGACGTGGAGGTCTGCTTGGCAGAGGGAACTTGCCCCACATTGGCGGTGGCCATATCCCCCTCGGCCTGGTATTCCTGGTGCAGCCAGCGGCTGGTGGAAGAGCGTTACTCTTGGACCAGCCAGCTGTCGCCGGCTGA'\n",
    "Nonoverlap_ORF = 'CCTCATCCCCCTGGAGGTCCCTACTGGTGCCAGCAGCCCCACCCAGAGAGACTGGCAGGAGCAGTTAGTGGTGGGGCACAATGTTTCCTTTGACCGAGCTCATATCAGGGAGCAGTACCTGATCCAGGGTTCCCGCATGCGTTTCCTGGACACCATGAGCATGCACATGGCCATCTCAGGGCTAAGCAGCTTCCAGCGCAGTCTGTGGATAGCAGCCAAGCAGGGCAAACACAAGGTCCAGCCCCCCACAAAGCAAGGCCAGAAGTCCCAGAGGAAAGCCAGAAGAGGCCCAGCGATCTCATCCTGGGACTGGCTGGACATCAGCAGTGTCAACAGTCTGGCAGAGGTGCACAGACTTTATGTAGGGGGGCCTCCCTTAGAGAAGGAGCCTCGAGAACTGTTTGTGAAGGGCACCATGAAGGACATTCGTGAGAACTTCCAGGACCTGATGCAGTACTGTGCCCAGGACGTGTGGGCCACCCATGAGGTTTTCCAGCAGCAGCTACCGCTCTTCTTGGAGAGGTGTCCCCACCCAGTGACTCTGGCCGGCATGCTGGAGATGGGTGTCTCCTACCTGCCTGTCAACCAGAACTGGGAGCGTTACCTGGCAGAGGCACAGGGCACTTATGAGGAGCTCCAGCGGGAGATGAAGAAGTCGTTGATGGATCTGGCCAATGATGCCTGCCAGCTGCTCTCAGGAGAGAGGTACAAAGAAGACCCCTGGCTCTGGGACCTGGAGTGGGACCTGCAAGAATTTAAGCAGAAGAAAGCTAAGAAGGTGAAGAAGGAACCAGCCACAGCCAGCAAGTTGCCCATCGAGGGGGCTGGGGCCCCTGGTGATCCCATGGATCAGGAAGACCTCGGCCCCTGCAGTGAGGAGGAGGAGTTTCAACAAGATGTCATGGCCCGCGCCTGCTTGCAGAAGCTGAAGGGGACCACAGAGCTCCTGCCCAAGCGGCCCCAGCACCTTCCTGGACACCCTGGATGGTACCGGAAGCTCTGCCCCCGGCTAGACGACCCTGCATGGACCCCGGGCCCCAGCCTCCTCAGCCTGCAGATGCGGGTCACACCTAAACTCATGGCACTTACCTGGGATGGCTTCCCTCTGCACTACTCAGAGCGTCATGGCTGGGGCTACTTGGTGCCTGGGCGGCGGGACAACCTGGCCAAGCTGCCGACAGGTACCACCCTGGAGTCAGCTGGGGTGGTCTGCCCCTACAGAGCCATCGAGTCCCTGTACAGGAAGCACTGTCTCGAACAGGGGAAGCAGCAGCTGATGCCCCAGGAGGCCGGCCTGGCGGAGGAGTTCCTGCTCACTGACAATAGTGCCATATGGCAAACGGTAGAAGAACTGGATTACTTAGAAGTGGAGGCTGAGGCCAAGATGGAGAACTTGCGAGCTGCAGTGCCAGGTCAACCCCTAGCTCTGACTGCCCGTGGTGGCCCCAAGGACACCCAGCCCAGCTATCACCATGGCAATGGACCTTACAACGACGTGGACATCCCTGGCTGCTGGTTTTTCAAGCTGCCTCACAAGGATGGTAATAGCTGTAATGTGGGAAGCCCCTTTGCCAAGGACTTCCTGCCCAAGATGGAGGATGGCACCCTGCAGGCTGGCCCAGGAGGTGCCAGTGGGCCCCGTGCTCTGGAAATCAACAAAATGATTTCTTTCTGGAGGAACGCCCATAAACGTATCAGCTCCCAGATGGTGGTGTGGCTGCCCAGGTCAGCTCTGCCCCGTGCTGTGATCAGGCACCCCGACTATGATGAGGAAGGCCTCTATGGGGCCATCCTGCCCCAAGTGGTGACTGCCGGCACCATCACTCGCCGGGCTGTGGAGCCCACATGGCTCACCGCCAGCAATGCCCGGCCTGACCGAGTAGGCAGTGAGTTGAAAGCCATGGTGCAGGCCCCACCTGGCTACACCCTTGTGGGTGCTGATGTGGACTCCCAAGAGCTGTGGATTGCAGCTGTGCTTGGAGACGCCCACTTTGCCGGCATGCATGGCTGCACAGCCTTTGGGTGGATGACACTGCAGGGCAGGAAGAGCAGGGGCACTGATCTACACAGTAAGACAGCCACTACTGTGGGCATCAGCCGTGAGCATGCCAAAATCTTCAACTACGGCCGCATCTATGGTGCTGGGCAGCCCTTTGCTGAGCGCTTACTAATGCAGTTTAACCACCGGCTCACACAGCAGGAGGCAGCTGAGAAGGCCCAGCAGATGTACGCTGCCACCAAGGGCCTCCGCTGGTATCGGCTGTCGGATGAGGGCGAGTGGCTGGTGAGGGAGTTGAACCTCCCAGTGGACAGGACTGAGGGTGGCTGGATTTCCCTGCAGGATCTGCGCAAGGTCCAGAGAGAAACTGCAAGGAAGTCACAGTGGAAGAAGTGGGAGGTGGTTGCTGAACGGGCATGGAAGGGGGGCACAGAGTCAGAAATGTTCAATAAGCTTGAGAGCATTGCTACGTCTGACATACCACGTACCCCGGTGCTGGGCTGCTGCATCAGCCGAGCCCTGGAGCCCTCGGCTGTCCAGGAAGAGTTTATGACCAGCCGTGTGAATTGGGTGGTACAGAGCTCTGCTGTTGACTACTTACACCTCATGCTTGTGGCCATGAAGTGGCTGTTTGAAGAGTTTGCCATAGATGGGCGCTTCTGCATCAGCATCCATGACGAGGTTCGCTACCTGGTGCGGGAGGAGGACCGCTACCGCGCTGCCCTGGCCTTGCAGATCACCAACCTCTTGACCAGGTGCATGTTTGCCTACAAGCTGGGTCTGAATGACTTGCCCCAGTCAGTCGCCTTTTTCAGTGCAGTCGATATTGACCGGTGCCTCAGGAAGGAAGTGACCATGGATTGTAAAACCCCTTCCAACCCAACTGGGATGGAAAGGAGATACGGGATTCCCCAGGGTGAAGCGCTGGATATTTACCAGATAATTGAACTCACCAAAGGCTCCTTGGAAAAACGAAGCCAGCCTGGACCATAG'\n",
    "ORFY_only_nonoverlap = 'CTGGAGCCCAAAGCCAGGTGTTCTGACTCCCAGCGTGGGGGTCCCTGCACCAACC'"
   ]
  },
  {
   "cell_type": "code",
   "execution_count": 42,
   "metadata": {},
   "outputs": [],
   "source": [
    "Riboseq_dict = processRiboSeqcsv(riboseq_table)"
   ]
  },
  {
   "cell_type": "code",
   "execution_count": 51,
   "metadata": {
    "scrolled": true
   },
   "outputs": [
    {
     "name": "stdout",
     "output_type": "stream",
     "text": [
      "335\n",
      "4055\n"
     ]
    }
   ],
   "source": [
    "subsequence_dict = queryRiboSeq(Main_ORF,Riboseq_dict)"
   ]
  },
  {
   "cell_type": "code",
   "execution_count": 52,
   "metadata": {
    "scrolled": false
   },
   "outputs": [
    {
     "name": "stdout",
     "output_type": "stream",
     "text": [
      "For the sequence ATGAGCCGCCTGCTCTGGAGGAAGGTGGCCGGCGCCACCGTCGGGCCAGGGCCGGTTCCAGCTCCGGGGCGCTGGGTCTCCAGCTCCGTCCCCGCGTCCGACCCCAGCGACGGGCAGCGGCGGCGGCAGCAGCAGCAGCAGCAGCAGCAGCAGCAGCAACAGCAGCCTCAGCAGCCGCAAGTGCTATCCTCGGAGGGCGGGCAGCTGCGGCACAACCCATTGGACATCCAGATGCTCTCGAGAGGGCTGCACGAGCAAATCTTCGGGCAAGGAGGGGAGATGCCTGGCGAGGCCGCGGTGCGCCGCAGCGTCGAGCACCTGCAGAAGCACGGGCTCTGGGGGCAGCCAGCCGTGCCCTTGCCCGACGTGGAGCTGCGCCTGCCGCCCCTCTACGGGGACAACCTGGACCAGCACTTCCGCCTCCTGGCCCAGAAGCAGAGCCTGCCCTACCTGGAGGCGGCCAACTTGCTGTTGCAGGCCCAGCTGCCCCCGAAGCCCCCGGCTTGGGCCTGGGCGGAGGGCTGGACCCGGTACGGCCCCGAGGGGGAGGCCGTACCCGTGGCCATCCCCGAGGAGCGGGCCCTGGTGTTCGACGTGGAGGTCTGCTTGGCAGAGGGAACTTGCCCCACATTGGCGGTGGCCATATCCCCCTCGGCCTGGTATTCCTGGTGCAGCCAGCGGCTGGTGGAAGAGCGTTACTCTTGGACCAGCCAGCTGTCGCCGGCTGACCTCATCCCCCTGGAGGTCCCTACTGGTGCCAGCAGCCCCACCCAGAGAGACTGGCAGGAGCAGTTAGTGGTGGGGCACAATGTTTCCTTTGACCGAGCTCATATCAGGGAGCAGTACCTGATCCAGGGTTCCCGCATGCGTTTCCTGGACACCATGAGCATGCACATGGCCATCTCAGGGCTAAGCAGCTTCCAGCGCAGTCTGTGGATAGCAGCCAAGCAGGGCAAACACAAGGTCCAGCCCCCCACAAAGCAAGGCCAGAAGTCCCAGAGGAAAGCCAGAAGAGGCCCAGCGATCTCATCCTGGGACTGGCTGGACATCAGCAGTGTCAACAGTCTGGCAGAGGTGCACAGACTTTATGTAGGGGGGCCTCCCTTAGAGAAGGAGCCTCGAGAACTGTTTGTGAAGGGCACCATGAAGGACATTCGTGAGAACTTCCAGGACCTGATGCAGTACTGTGCCCAGGACGTGTGGGCCACCCATGAGGTTTTCCAGCAGCAGCTACCGCTCTTCTTGGAGAGGTGTCCCCACCCAGTGACTCTGGCCGGCATGCTGGAGATGGGTGTCTCCTACCTGCCTGTCAACCAGAACTGGGAGCGTTACCTGGCAGAGGCACAGGGCACTTATGAGGAGCTCCAGCGGGAGATGAAGAAGTCGTTGATGGATCTGGCCAATGATGCCTGCCAGCTGCTCTCAGGAGAGAGGTACAAAGAAGACCCCTGGCTCTGGGACCTGGAGTGGGACCTGCAAGAATTTAAGCAGAAGAAAGCTAAGAAGGTGAAGAAGGAACCAGCCACAGCCAGCAAGTTGCCCATCGAGGGGGCTGGGGCCCCTGGTGATCCCATGGATCAGGAAGACCTCGGCCCCTGCAGTGAGGAGGAGGAGTTTCAACAAGATGTCATGGCCCGCGCCTGCTTGCAGAAGCTGAAGGGGACCACAGAGCTCCTGCCCAAGCGGCCCCAGCACCTTCCTGGACACCCTGGATGGTACCGGAAGCTCTGCCCCCGGCTAGACGACCCTGCATGGACCCCGGGCCCCAGCCTCCTCAGCCTGCAGATGCGGGTCACACCTAAACTCATGGCACTTACCTGGGATGGCTTCCCTCTGCACTACTCAGAGCGTCATGGCTGGGGCTACTTGGTGCCTGGGCGGCGGGACAACCTGGCCAAGCTGCCGACAGGTACCACCCTGGAGTCAGCTGGGGTGGTCTGCCCCTACAGAGCCATCGAGTCCCTGTACAGGAAGCACTGTCTCGAACAGGGGAAGCAGCAGCTGATGCCCCAGGAGGCCGGCCTGGCGGAGGAGTTCCTGCTCACTGACAATAGTGCCATATGGCAAACGGTAGAAGAACTGGATTACTTAGAAGTGGAGGCTGAGGCCAAGATGGAGAACTTGCGAGCTGCAGTGCCAGGTCAACCCCTAGCTCTGACTGCCCGTGGTGGCCCCAAGGACACCCAGCCCAGCTATCACCATGGCAATGGACCTTACAACGACGTGGACATCCCTGGCTGCTGGTTTTTCAAGCTGCCTCACAAGGATGGTAATAGCTGTAATGTGGGAAGCCCCTTTGCCAAGGACTTCCTGCCCAAGATGGAGGATGGCACCCTGCAGGCTGGCCCAGGAGGTGCCAGTGGGCCCCGTGCTCTGGAAATCAACAAAATGATTTCTTTCTGGAGGAACGCCCATAAACGTATCAGCTCCCAGATGGTGGTGTGGCTGCCCAGGTCAGCTCTGCCCCGTGCTGTGATCAGGCACCCCGACTATGATGAGGAAGGCCTCTATGGGGCCATCCTGCCCCAAGTGGTGACTGCCGGCACCATCACTCGCCGGGCTGTGGAGCCCACATGGCTCACCGCCAGCAATGCCCGGCCTGACCGAGTAGGCAGTGAGTTGAAAGCCATGGTGCAGGCCCCACCTGGCTACACCCTTGTGGGTGCTGATGTGGACTCCCAAGAGCTGTGGATTGCAGCTGTGCTTGGAGACGCCCACTTTGCCGGCATGCATGGCTGCACAGCCTTTGGGTGGATGACACTGCAGGGCAGGAAGAGCAGGGGCACTGATCTACACAGTAAGACAGCCACTACTGTGGGCATCAGCCGTGAGCATGCCAAAATCTTCAACTACGGCCGCATCTATGGTGCTGGGCAGCCCTTTGCTGAGCGCTTACTAATGCAGTTTAACCACCGGCTCACACAGCAGGAGGCAGCTGAGAAGGCCCAGCAGATGTACGCTGCCACCAAGGGCCTCCGCTGGTATCGGCTGTCGGATGAGGGCGAGTGGCTGGTGAGGGAGTTGAACCTCCCAGTGGACAGGACTGAGGGTGGCTGGATTTCCCTGCAGGATCTGCGCAAGGTCCAGAGAGAAACTGCAAGGAAGTCACAGTGGAAGAAGTGGGAGGTGGTTGCTGAACGGGCATGGAAGGGGGGCACAGAGTCAGAAATGTTCAATAAGCTTGAGAGCATTGCTACGTCTGACATACCACGTACCCCGGTGCTGGGCTGCTGCATCAGCCGAGCCCTGGAGCCCTCGGCTGTCCAGGAAGAGTTTATGACCAGCCGTGTGAATTGGGTGGTACAGAGCTCTGCTGTTGACTACTTACACCTCATGCTTGTGGCCATGAAGTGGCTGTTTGAAGAGTTTGCCATAGATGGGCGCTTCTGCATCAGCATCCATGACGAGGTTCGCTACCTGGTGCGGGAGGAGGACCGCTACCGCGCTGCCCTGGCCTTGCAGATCACCAACCTCTTGACCAGGTGCATGTTTGCCTACAAGCTGGGTCTGAATGACTTGCCCCAGTCAGTCGCCTTTTTCAGTGCAGTCGATATTGACCGGTGCCTCAGGAAGGAAGTGACCATGGATTGTAAAACCCCTTCCAACCCAACTGGGATGGAAAGGAGATACGGGATTCCCCAGGGTGAAGCGCTGGATATTTACCAGATAATTGAACTCACCAAAGGCTCCTTGGAAAAACGAAGCCAGCCTGGACCATAG, Frame 1 has 12.810484 reads, Frame 2 has 19.654032 reads, Frame 3 has 9.472312 reads, and there are a total of 41.936828 reads. \n"
     ]
    }
   ],
   "source": [
    "printRiboSeqAnalysis(subsequence_dict)"
   ]
  },
  {
   "cell_type": "code",
   "execution_count": null,
   "metadata": {},
   "outputs": [],
   "source": []
  },
  {
   "cell_type": "code",
   "execution_count": null,
   "metadata": {},
   "outputs": [],
   "source": []
  }
 ],
 "metadata": {
  "kernelspec": {
   "display_name": "Python 3",
   "language": "python",
   "name": "python3"
  },
  "language_info": {
   "codemirror_mode": {
    "name": "ipython",
    "version": 3
   },
   "file_extension": ".py",
   "mimetype": "text/x-python",
   "name": "python",
   "nbconvert_exporter": "python",
   "pygments_lexer": "ipython3",
   "version": "3.6.5"
  }
 },
 "nbformat": 4,
 "nbformat_minor": 2
}
