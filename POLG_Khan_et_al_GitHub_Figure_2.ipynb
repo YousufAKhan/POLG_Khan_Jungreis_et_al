{
 "cells": [
  {
   "cell_type": "markdown",
   "metadata": {},
   "source": [
    "__The following code shows how the Synplots in Figure 2 were created__\n",
    "\n",
    "\n",
    "\n",
    "5/9/19\n",
    "\n",
    "I am attempting to redo my previous POLG analysis by following a more proper method for choosing my sequences. I am basing my approach off of Dinan et. al (https://www.ncbi.nlm.nih.gov/pmc/articles/PMC5644247/). For this study, I will obtain sequences by performing tblastn searches against the nr/nt NCBI database using selected reference species. \n",
    "\n",
    "--> I think it would be best to blast against the ref_seqRNA database rather than the nr/nt database\n",
    "\n",
    "https://www.ncbi.nlm.nih.gov/homologene/2016 \n",
    "\n",
    "\n",
    "\n",
    "My selected reference species' sequences will be\n",
    "\n",
    "__Homo sapiens__: NM_002693.2, corresponding protein: NP_002684.1. TaxID Mammalia (taxid 40674).\n",
    "\n",
    "__Gallus gallus__: XM_015292047.2 is the NCBI transcript for POLG but the Ensembl transcript, POLG-201 has the upstream CUG in the correct frame. I suspect that while this won't change my BLAST results, I'll use it for all the downstream analyses after BLAST and force the Ensembl version into my dictionary. Corresponding protein: XP_015147533.1. TaxID Sauropsid\n",
    "\n",
    "__Xenopus tropicalis__: XM_002932235.4, corresponding protein: XP_002932281.2. TaxID Amphibia (taxid:8292)\n",
    "\n",
    "__Danio rerio__: XM_001921095.6, corresponding protein: XP_001921130.3. TaxID teleost fishes (taxid:32443)\n",
    "\n",
    "I am performing tblastn searches, using default parameters except I looked for the top 500 hits, with each of the corresponding protein sequences for each selected reference species using taxid Mammalia (taxid:40674), sauropsid, amphibian, teleost or vertebrate excluding mammalia, sauropsid, amphibian and teleost. Lastly the database is the RefSeqRNA database\n",
    "\n",
    "Sequences that had 'partial mRNA' in the name were removed\n",
    "\n",
    "__Mammalia investigation:__\n",
    "\n",
    "These sequences were removed from synplot analysis due to the amount of gaps in their alignment from Mammalian\n",
    "\n",
    "PREDICTED: Camelus bactrianus polymerase (DNA directed), gamma (POLG), partial mRNA\n",
    "NCBI Reference Sequence: XM_010955340.1  --> This sequence is a partial mRNA sequence (the genomic assembly lacks the 5' portion of the CDS) and has thus been excluded in synplot and CUG kozak analysis. \n",
    "\n",
    "These sequences were also removed due to their gappyness and synplot wouldn't run: Bison_bison_bison(XM_010841133.1), Oryctolagus_cuniculus (XM_017337563), Camelus_ferus (XM_006192570)\n",
    "\n",
    "__Sauropsid investigation__\n",
    "\n",
    "Sequences that had 'partial mRNA' in the name were removed during the BLAST search. The synplot doesn't look terribly significant but Gallus_gallus has a stop codon free area in the +1 frame\n",
    "\n",
    "__Amphibian investgiation__\n",
    "\n",
    "Too few sequences present to do a proper synplot analysis. Xenopus_tropicalis doesn't have a stop codon free region in the +1 frame.\n",
    "\n",
    "There are only three organisms that are analyzed\n",
    "\n",
    "Xenopus_tropicalis:XM_002932235\n",
    "\n",
    "Xenopus_laevis:XM_018250789\n",
    "\n",
    "Nanorana_parkeri: XM_018571894\n",
    "\n",
    "__Teleost fish investgiation__\n",
    "\n",
    "Austrofundulus_limnaeus filtered to gappyness\n",
    "\n",
    "The synplot doesn't look significant and there isn't a stop codon free area in the +1 frame for Danio_rerio\n",
    "\n",
    "\n"
   ]
  },
  {
   "cell_type": "code",
   "execution_count": 42,
   "metadata": {},
   "outputs": [],
   "source": [
    "#BioPython is heavily used in this analysis with Python 3 (Anaconda distribution)\n",
    "\n",
    "from Bio.Seq import Seq\n",
    "from Bio import Entrez\n",
    "from Bio import SeqIO\n",
    "from Bio.Alphabet import IUPAC\n",
    "import matplotlib\n",
    "import matplotlib.pyplot as plt\n",
    "% matplotlib inline\n",
    "import numpy as np\n",
    "from Bio.Align.Applications import MuscleCommandline\n",
    "import os\n",
    "from Bio import SeqIO\n",
    "import csv\n",
    "from itertools import islice\n",
    "from Bio.Emboss.Applications import TranalignCommandline"
   ]
  },
  {
   "cell_type": "markdown",
   "metadata": {},
   "source": [
    "__Before running the code below to generate tranaligned files, remember to change the __\n",
    "\n",
    "\n",
    "1)BLAST_genbank, \n",
    "\n",
    "2)BLAST_textoutput, \n",
    "\n",
    "3)and which filter list is being used in the writeCDS and writeProtein commands. \n",
    "\n",
    "\n",
    "This portion of the code deals with generated tranaligned sequences__"
   ]
  },
  {
   "cell_type": "code",
   "execution_count": 43,
   "metadata": {},
   "outputs": [],
   "source": [
    "cwd = os.getcwd()+os.sep\n",
    "\n",
    "BLAST_genbank = 'Representative_Species/tblastn_refseqrna_mammalia_queryhomosapiens_1-12-20.gb'\n",
    "BLAST_textoutput = 'Representative_Species/tblastn_refseqrna_mammalia_queryhomosapiens_1-12-20.txt'\n",
    "\n",
    "muscle_executable = cwd+\"muscle3.8.31_i86win32.exe\"\n",
    "output_all_CDS = cwd+\"80_CDS_POLG_new.fasta\"\n",
    "output_protein = cwd+'80_POLG_protein.fasta'\n",
    "output_all_CDS_ali = cwd+\"80_POLG_muscle_out_new.clw\"\n",
    "ordered_CDS = cwd+'80_Ordered_CDS_POLG.fasta'\n",
    "alignment_file = cwd+'80_POLG_muscle_alignment.fasta'\n",
    "\n",
    "mammal_filter_list = ['Camelus_bactrianus','Bison_bison_bison','Oryctolagus_cuniculus','Camelus_ferus']\n",
    "sauropsid_filter_list = []\n",
    "teleost_filter_list = ['Austrofundulus_limnaeus']\n",
    "amphibian_filter_list = []\n",
    "\n",
    "\n",
    "tranalign_exe = r\"C:\\mEMBOSS\\Tranalign.exe\"\n",
    "tranalignseq_out = cwd + 'POLG_tranalign_output_80.fasta'"
   ]
  },
  {
   "cell_type": "code",
   "execution_count": 44,
   "metadata": {},
   "outputs": [],
   "source": [
    "#This is the POLG201 sequence for gallus gallus because the NCBI version has the CUG in the incorrect frame\n",
    "custom_POLG201_Gallus_gallus_sequence = Seq('GTCGCCCCGGAGCCCCGCGTTGCACCGCGATCCGACCCGGGCGGCGCGGTGTGGGGGCGGGGGGGCGCGTGGGGACAGCGCGGGGCTGCACGGCGCGGGGAAGGGGAGGTGCGGAGCTTTGGGGGCGCGTGCAGAGCTGTGGGGAGCGGCGGGGCGTGCCGCGTGCCTTGCAGGGGTGCCGCGTGCTTTGCAGGGGTGCCGCGTGCGTGCAGAGGTGTTGCACGCCTTGCAGGGGTGCTGCGTGCTTCGACGCAGTGGTGCGCCCCAGCTGCGCATCCCGGCGCGCCGCACACCTACGAGGTGTCGCTTTTAGCAGCGCCGGTTGAAGCTCCCGCTGCGGACCCCTCCCCTCACCGCCGCTCTCCCCCTGCAGGAGGACCCCCCCCTTATCCGGCAGCACCGCGATGCTCCGCGCGCTCCGCCGAGGCTCAGCGCCGCGCCGCGCCGCCTCCCGGCCGTGCTCCGGGCCCTCCGCGCACCGCCCGCAGCCACGCGGCGACGAGGCCGAGCCGTCGGAGCGGAGCGAGCGCCGCGTGAACCCGCTGCACATCCAGATGTTGTCCCGGAACCTCCACGAGCAGATCTTCCGCGGGGCGCCCGTGCGGCACTCGGAGGCGGCCGTGCGGCGCAGCGTCGAACACCTGCAGCGGCACGGCCTGTGGGGCCGGCACGGCCCGTCGCTGCCCGACGTGAGTTTGCGCCTGCCCCGCATGTACGGCGCCGACATCGACGAGCATTTCCGCCGCCTGGCGCAGAAGCAGAGCCTGCCCTACCTGGAGGCGGCCGAGGAGCTGCTGCGCTGCCGCCTGCCCCCCGCACCACAGAGCTGGGCCCGGCAGCAGGGCTGGACGCGCTACGGCCCCGACGGGCGGCCCGAGGCGGTGGAGTGCCCGCGGGAGCGCGCGTTGGTGCTGGACGTGGAGGTGTGCGTGGCCGCCGGGCAGTGCCCCACTATGGCCGTGGCGGTGTCGCCGCACGCGTGGTACTCGTGGTGCAGCCGGCGCCTGCTGGAGCAGCGCTACTCGTGGGGCCCCCGGCTGGCGCTGCACGACCTCGTGCCTCTGGAGGGGACCGGCAGGCAGCAGGAGGGCGGCGAGAGGGTGGTGGTGGGGCACAACGTGGCTTTCGACCGCGCCTTCATCAGGGAGCAGTACCTCGTGCAGGGCTCCCGGGTGCGCTTCCTGGACACCATGAGCATGCACATGGCCATCTCGGGGCTCACGGGCTTCCAGCGCAGCCTCTGGATGGCCGCCAAGCACGGCAAGAGGAAGGGGCTGCAGCAGGTCAGGCAGCACATGAAGAAGACACGCAGCAAAGCCGAGGGGCCGGCGGTCTCTTCATGGGACTGGGTGCACGTCAGCAGCATCAACAACCTGGCAGATGTGCATGCACTGTACGTGGGAGGGGAACCGCTGCAGAAGGAGGCACGAGAGCTGTTTGTTAAGGGGACCATGGCTGACGTCAGGAATAACTTCCAGGAGCTGATGTCGTACTGTGCCAGCGATGTCCGGGCCACCTATGAGGTGTTCCAGGAGCAGCTGCCGCTCTTCATGGAGAGGTGCCCCCACCCCGTGACGTTTGCTGGGATGTTGGAGATGGGGGTGTCCTACCTGCCGGTCAACAGCAACTGGAGGAGGTACCTGGACGATGCTCAGGGCACCTATGAGGAGCTGCAGAAGGAGATGAAAAAGTCCTTGATGAACCTGGCCAACGATGCCTGCCAGCTGCTGCACGAGGACAGGTACAAGGAGGACCCCTGGCTCTGGGATCTGGAGTGGGACACGCAAGAGTTTAAGCAGAAGAAACCCGCTAAGAGGAAGAAGGATCAGAAAATAAACAGTGAAGCTTCCGAGACGGGCTCTGCTCAGGAGTGGAGGGAAGACCCCGGTCCCCCCAGCGAGGAGGAGGAGCTGAGAGCCCCCGAGAGCAGCACCTGCCTGGAGCGCCTGAAGGAGACGATCACACTGCAGCCCAAGAGGCTGCAGCACCTCCCGGGCCACCCGGGCTGGTACCGCAAGCTCTGCCCGCGCCTGGAGGAGGAGGGCTGGGTGCCGGGGCCCAGCCTCATCAGCCTGCAGATGCGGGTGACCCCGAAACTGATGCGCCTGGCCTGGGATGGCTTCCCTCTGCACTACTCGGAGAAGCACGGCTGGGGCTACCTGGTGCCGGGGCGGCAGGACAACCTGCCTGCAGCCTCTGCGGAGCCAGAGGGGCCTGTCTGCCCACACAGGGCGATCGAGCGGCTGTATCGGCAGCACTGCCTGCAGAGGGGCCAGGAGCAGCCCCCAGAGGAGGCTGGCGTGGAGGATGAGCTGATGGTGCTGGAGGGCAGCAGCATGTGGCAGAAGGTGGAGGAGCTGAGCCAGCTGGAGCTGGACATGGAGCGGCCGGGCAGGGCAGAGCAGAGCCAGATGCAGGATGAGGACGGGCTGCCAGAGCTGGTGGAGGAGAGCAGCCAGCCCTCATTCCACCACGGCAATGGCCCCTACAACGACGTCAACATCCCTGGATGCTGGTTCTTCAAGCTGCCCCACAAGGACGGCAATGAGAACAACGTGGGGAGCCCCTTTGCCAAGGACTTCCTGCCCCGCATGGAGGATGGCACGCTGCGGGCCACCGTGGGCCGCACCCATGGGACCAGAGCCCTGGAGATCAACAAGATGGTGTCCTTCTGGAGGAACGCTCACAAGCGGGTCAGTTCCCAGGTGGTTGTGTGGCTGAAGAAGGGGGAGCTGCCCCGTGCGGTGACCAGGCACCCGGCCTACAGCGAGGAGGAGGACTACGGGGCCATCCTGCCGCAGGTGGTGACTGCGGGTACCATCACCCGTCGGGCCGTGGAGCCCACGTGGCTGACAGCCAGCAATGCCCGGGCTGACCGTGTGGGCAGCGAGCTGAAGGCCATGGTCCAGGTGCCGCCCGGCTACTCTCTGGTGGGTGCAGATGTGGACTCCCAGGAGCTGTGGATAGCGGCGGTCCTGGGCGAGGCTCACTTTGCTGGCATGCACGGGTGCACGGCCTTCGGCTGGATGACCCTGCAAGGGAAGAAGAGCGACGGGACCGACCTGCATAGCAAGACGGCCGCCACGGTGGGCATCAGCCGGGAGCACGCCAAGGTCTTCAACTACGGGCGCATCTACGGGGCTGGGCAGCCCTTTGCCGAGCGGCTGCTGATGCAGTTCAATCACCGGCTGACACAGCAGCAGGCACGTGAGAAGGCACAGCAGATGTATGCAGTCACAAAGGGCATCCGGAGGTTTCATCTCAGCGAGGAGGGCGAGTGGCTGGTGAAGGAACTGGAGCTGGCTGTGGACAAAGCAGAAGATGGTACGGTGTCGGCCCAGGATGTGCAGAAGATCCAGAGAGAAGCCATGAGAAAGTCCCGAAGGAAGAAGAAGTGGGACGTGGTGGCTCACCGAATGTGGGCTGGAGGCACCGAGTCCGAAATGTTCAACAAGCTGGAGAGCATCGCTCTGTCCGCCTCGCCACAGACCCCGGTGCTGGGCTGTCATATCAGCAGGGCTCTGGAGCCTGCAGTGGCCAAAGGGGAGTTTCTAACCAGCAGAGTGAACTGGGTGGTGCAGAGCTCAGCTGTTGACTACCTGCACCTCATGCTGGTCTCCATGAAGTGGCTCTTTGAGGAGTATGACATAAATGGTCGCTTCTGCATCAGCATCCACGACGAGGTGCGCTACCTGGTGCAGGAGCAGGACCGCTACCGGGCAGCACTGGCCCTGCAGATCACCAACCTGCTCACACGGTGCATGTTTGCCTACAAGCTGGGCCTCCAGGATCTGCCGCAGTCCGTGGCTTTCTTCAGCGCTGTGGACATTGACCGGTGCTTAAGGAAGGAGGTGACCATGAACTGTGCGACTCCATCAAATCCAACCGGCATGGAGAAGAAGTACGGCATTCCTCGAGGAGAAGCACTGGATATATATCAGATAATTGAAATAACCAAAGGCTCACTGGAGAAGAAGTGATAACGTGAGAGTGCCAGAAGGTGCAAGTTGTCCAGAGAGCACACGGGAACCTGGCTGTCCTTTCAGAAGCACATACATGGCAGGGACCAATCCTGGTTGCGCCGCTTCCTTCTCGTGGTAAGAAAAAGATGTTCCTGATGAAGATTTTCATAGCAGCACATCTGAATGGGAGAGCTTGCATATTTGAATGGCTGGCAGCCAGCTTTAAGACCTGAGACACCTGACAGAGTCACTGCTTGCACACCCGTGGGGATGAAGAAAGAAGTCTTGAGTATTTGCCAGGAGACAGAATCAAATCAATCATCTGTACGTGCAGTTCTCCAAGACCAAGGTGAGGCTGCCACAGCACAGGTGCTGTAGGAGAAGGAGGTGGCAGCAGTTGCAAGCACACATTCTATTTTTTTCGCCTTCTTTTCTTTTGGGGTTCCTGGTTTTCATCTGGCTGCTCTGCTGTGCCGGACTGGAGAGAAATAGAGAGTTAAGAGTACCAAGTGTGAACGTTTGTGT')"
   ]
  },
  {
   "cell_type": "code",
   "execution_count": 45,
   "metadata": {},
   "outputs": [],
   "source": [
    "#This function requires a genbank file from a blast result, the text_table of the results of a blast result. An optional\n",
    "#parameter exists called optional_cutoff --> if an individual sorts sequences by something like query cover before downloading\n",
    "#his/her blast result, the user can choose to stop processing at a specific sequence so that only sequences above a certain\n",
    "#query cover are considered in downstream analysis. Alternatively, one could simply download sequences manually that are above\n",
    "#a certain query cover\n",
    "def processHitTable(genbank_file,text_table, optional_cutoff = ''):\n",
    "    Sequence_dict = {}\n",
    "    for file in SeqIO.parse(genbank_file, 'gb'):\n",
    "        for feature in file.features:\n",
    "                if feature.type == 'gene':\n",
    "                    if 'gene' in feature.qualifiers.keys():\n",
    "                        symbol = feature.qualifiers['gene']\n",
    "                    if 'locus_tag' in feature.qualifiers.keys():\n",
    "                        symbol = feature.qualifiers['locus_tag']\n",
    "                if feature.type == 'source':\n",
    "                    organism = feature.qualifiers['organism'][0].replace(\" \", \"_\")\n",
    "                    \n",
    "                    #automatically should use POLG-201 transcript\n",
    "                    if organism == 'Gallus_gallus':\n",
    "                        Sequence_dict['Gallus_gallus'] = {}\n",
    "                        Sequence_dict['Gallus_gallus']['POLG_201'] = {}\n",
    "                        Sequence_dict['Gallus_gallus']['POLG_201']['nam'] = 'Ensembl_transcript_POLG-201'\n",
    "                        Sequence_dict['Gallus_gallus']['POLG_201']['seq'] = (custom_POLG201_Gallus_gallus_sequence)\n",
    "                        Sequence_dict['Gallus_gallus']['POLG_201']['start'] = 404\n",
    "                        Sequence_dict['Gallus_gallus']['POLG_201']['end'] = 3983\n",
    "                        Sequence_dict['Gallus_gallus']['POLG_201']['bit score'] = 1000000\n",
    "                        \n",
    "                if feature.type == 'CDS':\n",
    "                    CDS = [int(a) for a in feature.location]\n",
    "                    start = CDS[0]\n",
    "                    end = CDS[-1]\n",
    "                    accession = file.name\n",
    "                    full_name = file.description\n",
    "                    if organism not in Sequence_dict.keys():\n",
    "                        Sequence_dict[organism] = dict()\n",
    "                    Sequence_dict[organism][accession] = dict()\n",
    "                    Sequence_dict[organism][accession]['nam'] = full_name\n",
    "                    Sequence_dict[organism][accession]['seq'] = file.seq\n",
    "                    Sequence_dict[organism][accession]['start'] = start\n",
    "                    Sequence_dict[organism][accession]['end'] = end + 1\n",
    "    \n",
    "    final_hit_dict = {}\n",
    "    with open(text_table) as f:\n",
    "        reader = csv.DictReader(f, delimiter = \"\\t\")\n",
    "        for initial_row in islice(reader, 4, 5):\n",
    "            header_list = str((initial_row['# tblastn'])).split('# Fields: ')[1].split(', ')\n",
    "        hit_number = 0\n",
    "        for row in islice(reader, 1, None):   \n",
    "            hit_dict = {}\n",
    "            hit_number +=1\n",
    "            query_id = []\n",
    "            query_id.append(str(row['# tblastn']))\n",
    "            result_list = row[None]\n",
    "            combined_results = query_id + result_list\n",
    "            i = 0\n",
    "            for item in header_list:\n",
    "                hit_dict[item] = combined_results[i]\n",
    "                i+=1  \n",
    "            if optional_cutoff != '':\n",
    "                if hit_dict['subject acc.ver'] == optional_cutoff:\n",
    "                    break\n",
    "            key = (hit_dict['subject acc.ver'].split('.'))[0]\n",
    "            \n",
    "            \n",
    "            organism = ''\n",
    "            accession = ''\n",
    "            for item in Sequence_dict:\n",
    "                for item2 in Sequence_dict[item]:\n",
    "                    if item2 == key:\n",
    "                        organism = item\n",
    "                        accession = item2\n",
    "                        Sequence_dict[organism][accession].update(hit_dict)\n",
    "            \n",
    "            \n",
    "            \n",
    "            \n",
    "            #final_hit_dict[key] = hit_dict     \n",
    "    return Sequence_dict"
   ]
  },
  {
   "cell_type": "code",
   "execution_count": 46,
   "metadata": {},
   "outputs": [],
   "source": [
    "def bestHitPerOrganism(hitTable):\n",
    "    singleHitDict = {}\n",
    "    for organism in hitTable:\n",
    "        bestScore = 0.0\n",
    "        final_accession = ''\n",
    "        transcript_variant = 0\n",
    "        for accession in hitTable[organism]:\n",
    "            current_score = float(hitTable[organism][accession]['bit score'])\n",
    "            if current_score > bestScore:\n",
    "                bestScore = current_score\n",
    "                final_accession = accession\n",
    "        singleHitDict[organism] = {'accession':final_accession, 'bit_score': bestScore,\n",
    "                                   'sequence':hitTable[organism][final_accession]['seq'],\n",
    "                                  'nam':hitTable[organism][final_accession]['nam'],\n",
    "                                  'start':hitTable[organism][final_accession]['start'],\n",
    "                                  'end':hitTable[organism][final_accession]['end']}\n",
    "    return singleHitDict     "
   ]
  },
  {
   "cell_type": "code",
   "execution_count": 47,
   "metadata": {},
   "outputs": [],
   "source": [
    "def writeCDS(out_file, D, skip = [],nam='organism'):\n",
    "    text_file = open(out_file, 'w')\n",
    "    for item in D:\n",
    "        if item in skip:\n",
    "            continue \n",
    "        if nam == 'organism':\n",
    "            text_file.write(\">%s\\n%s\\n\" % (item,\n",
    "                                           (D[item]['sequence'][D[item]['start']:D[item]['end']])))\n",
    "        else:\n",
    "            text_file.write(\">%s\\n%s\\n\" % (D[item][nam],\n",
    "                                           D[item]['sequence'][D[item]['start']:D[item]['end']]))            \n",
    "    text_file.close()"
   ]
  },
  {
   "cell_type": "code",
   "execution_count": 48,
   "metadata": {},
   "outputs": [],
   "source": [
    "def writeProtein(out_file, D,skip = [], nam='organism'):\n",
    "    text_file = open(out_file, 'w')\n",
    "    for item in D:\n",
    "        if item in skip:\n",
    "            continue\n",
    "        if nam == 'organism':\n",
    "            text_file.write(\">%s\\n%s\\n\" % (item,\n",
    "                                           ((D[item]['sequence'][D[item]['start']:D[item]['end']])).translate(to_stop=True)))\n",
    "        else:\n",
    "            text_file.write(\">%s\\n%s\\n\" % (D[item][nam],\n",
    "                                           D[item]['sequence'][D[item]['start']:D[item]['end']]))            \n",
    "    text_file.close()"
   ]
  },
  {
   "cell_type": "code",
   "execution_count": 49,
   "metadata": {},
   "outputs": [],
   "source": [
    "def runMuscle(in_file, out_file, muscle_executable):\n",
    "    muscle_cline = MuscleCommandline(muscle_executable, input=in_file, out=out_file)\n",
    "    muscle_cline()"
   ]
  },
  {
   "cell_type": "code",
   "execution_count": 50,
   "metadata": {},
   "outputs": [],
   "source": [
    "def readAlignment(in_file):\n",
    "    alignment_dict = {}\n",
    "    for seq_record in (SeqIO.parse(in_file, 'fasta')):\n",
    "        name = seq_record.id\n",
    "        seq = seq_record.seq\n",
    "        alignment_dict[name] = str(seq)\n",
    "    return (alignment_dict)"
   ]
  },
  {
   "cell_type": "code",
   "execution_count": 51,
   "metadata": {},
   "outputs": [],
   "source": [
    "def orderCDSfile(final, alignment_dict, filename):\n",
    "    CDS_order_file = open(filename,'w')\n",
    "    for item in alignment_dict:\n",
    "        CDS_order_file.write('>'+item+'\\n'+str(final[item]['sequence'][final[item]['start']:final[item]['end']])+'\\n')\n",
    "    CDS_order_file.close()"
   ]
  },
  {
   "cell_type": "code",
   "execution_count": 52,
   "metadata": {},
   "outputs": [],
   "source": [
    "def generateAlignmentFile(alignment_in, alignment_dict):\n",
    "    alignment_file = open(alignment_in, 'w')\n",
    "    for item in alignment_dict:\n",
    "        alignment_file.write('>'+item+'\\n'+(alignment_dict[item])+'\\n')\n",
    "    alignment_file.close()"
   ]
  },
  {
   "cell_type": "code",
   "execution_count": 53,
   "metadata": {},
   "outputs": [],
   "source": [
    "def runTranalign(Tranalign_exe, orderedCDS_file_in, POLG_muscle_alignment_in, tranalignseq_out):\n",
    "    needle_cline = TranalignCommandline(Tranalign_exe,asequence=orderedCDS_file_in,\n",
    "                                 bsequence=POLG_muscle_alignment_in,\n",
    "                                 stdout=True,outseq=tranalignseq_out)\n",
    "    needle_cline()"
   ]
  },
  {
   "cell_type": "code",
   "execution_count": 54,
   "metadata": {},
   "outputs": [],
   "source": [
    "hitTable = processHitTable(BLAST_genbank,BLAST_textoutput,80)\n",
    "singleTranscriptTable = bestHitPerOrganism(hitTable)"
   ]
  },
  {
   "cell_type": "code",
   "execution_count": 55,
   "metadata": {},
   "outputs": [],
   "source": [
    "writeCDS(output_all_CDS, singleTranscriptTable, mammal_filter_list)"
   ]
  },
  {
   "cell_type": "code",
   "execution_count": 56,
   "metadata": {},
   "outputs": [],
   "source": [
    "writeProtein(output_protein, singleTranscriptTable, mammal_filter_list)"
   ]
  },
  {
   "cell_type": "code",
   "execution_count": 57,
   "metadata": {},
   "outputs": [],
   "source": [
    "runMuscle(output_protein, output_all_CDS_ali, muscle_executable)"
   ]
  },
  {
   "cell_type": "code",
   "execution_count": 58,
   "metadata": {},
   "outputs": [],
   "source": [
    "alignment_dict = readAlignment(output_all_CDS_ali)"
   ]
  },
  {
   "cell_type": "code",
   "execution_count": 59,
   "metadata": {},
   "outputs": [],
   "source": [
    "orderCDSfile(singleTranscriptTable, alignment_dict,ordered_CDS)"
   ]
  },
  {
   "cell_type": "code",
   "execution_count": 60,
   "metadata": {},
   "outputs": [],
   "source": [
    "generateAlignmentFile(alignment_file, alignment_dict)"
   ]
  },
  {
   "cell_type": "code",
   "execution_count": 61,
   "metadata": {},
   "outputs": [],
   "source": [
    "runTranalign(tranalign_exe, ordered_CDS, alignment_file, tranalignseq_out)"
   ]
  },
  {
   "cell_type": "code",
   "execution_count": 62,
   "metadata": {},
   "outputs": [],
   "source": [
    "tranaligned_dict = {}\n",
    "for file in SeqIO.parse(tranalignseq_out, 'fasta'):\n",
    "    tranaligned_dict[file.name] = str(file.seq)"
   ]
  },
  {
   "cell_type": "code",
   "execution_count": 63,
   "metadata": {},
   "outputs": [],
   "source": [
    "#Run synplot on the online database: http://guinevere.otago.ac.nz/cgi-bin/aef/synplot.pl"
   ]
  },
  {
   "cell_type": "code",
   "execution_count": 41,
   "metadata": {},
   "outputs": [],
   "source": [
    "#CleanupFiles\n",
    "os.remove(output_all_CDS)\n",
    "os.remove(output_protein)\n",
    "os.remove(alignment_file)\n",
    "os.remove(ordered_CDS)\n",
    "os.remove(output_all_CDS_ali)\n",
    "os.remove(tranalignseq_out)"
   ]
  },
  {
   "cell_type": "code",
   "execution_count": null,
   "metadata": {},
   "outputs": [],
   "source": []
  }
 ],
 "metadata": {
  "kernelspec": {
   "display_name": "Python 3",
   "language": "python",
   "name": "python3"
  },
  "language_info": {
   "codemirror_mode": {
    "name": "ipython",
    "version": 3
   },
   "file_extension": ".py",
   "mimetype": "text/x-python",
   "name": "python",
   "nbconvert_exporter": "python",
   "pygments_lexer": "ipython3",
   "version": "3.6.5"
  }
 },
 "nbformat": 4,
 "nbformat_minor": 2
}
